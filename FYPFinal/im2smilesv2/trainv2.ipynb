{
 "cells": [
  {
   "cell_type": "code",
   "execution_count": 1,
   "id": "afd9effa",
   "metadata": {},
   "outputs": [],
   "source": [
    "import numpy as np\n",
    "import json\n",
    "import pandas as ps\n",
    "np.random.seed(6)"
   ]
  },
  {
   "cell_type": "code",
   "execution_count": 2,
   "id": "4d7aa79d",
   "metadata": {},
   "outputs": [],
   "source": [
    "from model.utils.data_generator import DataGenerator\n",
    "from model.img2seq import Img2SeqModel\n",
    "from model.utils.lr_schedule import LRSchedule\n",
    "from model.utils.general import Config\n",
    "from model.utils.text import Vocab\n",
    "from model.utils.image import greyscale"
   ]
  },
  {
   "cell_type": "code",
   "execution_count": 3,
   "id": "32fd341b",
   "metadata": {},
   "outputs": [],
   "source": [
    "import os\n",
    "os.environ['CUDA_VISIBLE_DEVICES']=\"0\""
   ]
  },
  {
   "cell_type": "code",
   "execution_count": 4,
   "id": "f6fea37b",
   "metadata": {},
   "outputs": [],
   "source": [
    "def main(data, vocab, training, model, output):\n",
    "    # Load configs\n",
    "    dir_output = output\n",
    "    config = Config([data, vocab, training, model])\n",
    "    config.save(dir_output)\n",
    "    vocab = Vocab(config)\n",
    "\n",
    "    # Load datasets\n",
    "    train_set = DataGenerator(path_formulas=config.path_formulas_train,\n",
    "            dir_images=config.dir_images_train, img_prepro=greyscale,\n",
    "            max_iter=config.max_iter, bucket=config.bucket_train,\n",
    "            path_index=config.path_index_train,\n",
    "            max_len=config.max_length_formula,\n",
    "            form_prepro=vocab.form_prepro)\n",
    "    val_set = DataGenerator(path_formulas=config.path_formulas_val,\n",
    "            dir_images=config.dir_images_val, img_prepro=greyscale,\n",
    "            max_iter=config.max_iter, bucket=config.bucket_val,\n",
    "            path_index=config.path_index_val,\n",
    "            max_len=config.max_length_formula,\n",
    "            form_prepro=vocab.form_prepro)\n",
    "\n",
    "    # Define learning rate schedule\n",
    "    n_batches_epoch = ((len(train_set) + config.batch_size - 1) //\n",
    "                        config.batch_size)\n",
    "    lr_schedule = LRSchedule(lr_init=config.lr_init,\n",
    "            start_decay=config.start_decay*n_batches_epoch,\n",
    "            end_decay=config.end_decay*n_batches_epoch,\n",
    "            end_warm=config.end_warm*n_batches_epoch,\n",
    "            lr_warm=config.lr_warm,\n",
    "            lr_min=config.lr_min)\n",
    "\n",
    "    # Build model\n",
    "    model = Img2SeqModel(config, dir_output, vocab)\n",
    "    model.build_train(config)\n",
    "\n",
    "    # Restart weights\n",
    "    # model.restore_session(dir_output + \"model.weights/\")\n",
    "\n",
    "    # Train model\n",
    "    model.train(config, train_set, val_set, lr_schedule)"
   ]
  },
  {
   "cell_type": "code",
   "execution_count": 11,
   "id": "56773ef3",
   "metadata": {},
   "outputs": [
    {
     "name": "stdout",
     "output_type": "stream",
     "text": [
      "configs/data_HDval-50K.json\n",
      "configs/vocab.json\n",
      "configs/training.json\n",
      "configs/model.json\n",
      "configs/data_HDval-50K.json\n",
      "configs/vocab.json\n",
      "configs/training.json\n",
      "configs/model.json\n",
      "Loaded 36366 formulas from Z:/FYP/data/synthetic/size_tests/50K/train.formulas.txt\n",
      "Loaded 413 formulas from Z:/FYP/data/hand-drawn/hand-drawn-val/val.formulas.txt\n",
      "First call to len(dataset) - may take a while.\n"
     ]
    },
    {
     "name": "stderr",
     "output_type": "stream",
     "text": [
      "Building model...\n"
     ]
    },
    {
     "name": "stdout",
     "output_type": "stream",
     "text": [
      "- done.\n",
      "Device mapping:\n",
      "/job:localhost/replica:0/task:0/device:GPU:0 -> device: 0, name: NVIDIA GeForce RTX 3080, pci bus id: 0000:01:00.0, compute capability: 8.6\n",
      "\n"
     ]
    },
    {
     "name": "stderr",
     "output_type": "stream",
     "text": [
      "- done.\n",
      "Epoch 1/30\n"
     ]
    },
    {
     "name": "stdout",
     "output_type": "stream",
     "text": [
      "[name: \"/device:CPU:0\"\n",
      "device_type: \"CPU\"\n",
      "memory_limit: 268435456\n",
      "locality {\n",
      "}\n",
      "incarnation: 17681269241321425917\n",
      "xla_global_id: -1\n",
      ", name: \"/device:GPU:0\"\n",
      "device_type: \"GPU\"\n",
      "memory_limit: 7787773952\n",
      "locality {\n",
      "  bus_id: 1\n",
      "  links {\n",
      "  }\n",
      "}\n",
      "incarnation: 13682798707936466465\n",
      "physical_device_desc: \"device: 0, name: NVIDIA GeForce RTX 3080, pci bus id: 0000:01:00.0, compute capability: 8.6\"\n",
      "xla_global_id: 416903419\n",
      "]\n",
      "1819/1819 [==============================] - 596s - loss: 0.8800 - perplexity: 2.4430 - lr: 0.0001   \n"
     ]
    },
    {
     "name": "stderr",
     "output_type": "stream",
     "text": [
      "- Training:  - 596s - loss: 0.8800 - perplexity: 2.4430 - lr: 0.0001\n"
     ]
    },
    {
     "name": "stdout",
     "output_type": "stream",
     "text": [
      "- Evaluating...Loaded 413 formulas from results/HDval-50K/formulas_val/ref.txt\n",
      "Loaded 413 formulas from results/HDval-50K/formulas_val/hyp_0.txt\n",
      "\r"
     ]
    },
    {
     "name": "stderr",
     "output_type": "stream",
     "text": [
      "- Eval: BLEU-4 29.62 - EM 0.00 - Edit 45.90 - perplexity -2.91\n",
      "- New best score (-2.91)!\n"
     ]
    },
    {
     "name": "stdout",
     "output_type": "stream",
     "text": [
      "==SAVING WEIGHTS===\n",
      "- Saving model...\r"
     ]
    },
    {
     "name": "stderr",
     "output_type": "stream",
     "text": [
      "- Saved model in results/HDval-50K/model.weights/\n",
      "- Elapsed time: 603.42, lr: 0.00010\n",
      "Epoch 2/30\n"
     ]
    },
    {
     "name": "stdout",
     "output_type": "stream",
     "text": [
      "1819/1819 [==============================] - 598s - loss: 0.7332 - perplexity: 2.0827 - lr: 0.0001   \n"
     ]
    },
    {
     "name": "stderr",
     "output_type": "stream",
     "text": [
      "- Training:  - 598s - loss: 0.7332 - perplexity: 2.0827 - lr: 0.0001\n"
     ]
    },
    {
     "name": "stdout",
     "output_type": "stream",
     "text": [
      "- Evaluating...Loaded 413 formulas from results/HDval-50K/formulas_val/ref.txt\n",
      "Loaded 413 formulas from results/HDval-50K/formulas_val/hyp_0.txt\n",
      "\r"
     ]
    },
    {
     "name": "stderr",
     "output_type": "stream",
     "text": [
      "- Eval: BLEU-4 26.74 - EM 0.00 - Edit 44.04 - perplexity -2.72\n",
      "- New best score (-2.72)!\n"
     ]
    },
    {
     "name": "stdout",
     "output_type": "stream",
     "text": [
      "==SAVING WEIGHTS===\n",
      "- Saving model...\r"
     ]
    },
    {
     "name": "stderr",
     "output_type": "stream",
     "text": [
      "- Saved model in results/HDval-50K/model.weights/\n",
      "- Elapsed time: 605.78, lr: 0.00010\n",
      "Epoch 3/30\n"
     ]
    },
    {
     "name": "stdout",
     "output_type": "stream",
     "text": [
      "1819/1819 [==============================] - 601s - loss: 0.7000 - perplexity: 2.0142 - lr: 0.0001   \n"
     ]
    },
    {
     "name": "stderr",
     "output_type": "stream",
     "text": [
      "- Training:  - 601s - loss: 0.7000 - perplexity: 2.0142 - lr: 0.0001\n"
     ]
    },
    {
     "name": "stdout",
     "output_type": "stream",
     "text": [
      "- Evaluating...Loaded 413 formulas from results/HDval-50K/formulas_val/ref.txt\n",
      "Loaded 413 formulas from results/HDval-50K/formulas_val/hyp_0.txt\n",
      "\r"
     ]
    },
    {
     "name": "stderr",
     "output_type": "stream",
     "text": [
      "- Eval: BLEU-4 26.81 - EM 0.00 - Edit 44.62 - perplexity -2.65\n",
      "- New best score (-2.65)!\n"
     ]
    },
    {
     "name": "stdout",
     "output_type": "stream",
     "text": [
      "==SAVING WEIGHTS===\n",
      "- Saving model...\r"
     ]
    },
    {
     "name": "stderr",
     "output_type": "stream",
     "text": [
      "- Saved model in results/HDval-50K/model.weights/\n",
      "- Elapsed time: 608.97, lr: 0.00010\n",
      "Epoch 4/30\n"
     ]
    },
    {
     "name": "stdout",
     "output_type": "stream",
     "text": [
      "1819/1819 [==============================] - 595s - loss: 0.6868 - perplexity: 1.9878 - lr: 0.0001   \n"
     ]
    },
    {
     "name": "stderr",
     "output_type": "stream",
     "text": [
      "- Training:  - 595s - loss: 0.6868 - perplexity: 1.9878 - lr: 0.0001\n"
     ]
    },
    {
     "name": "stdout",
     "output_type": "stream",
     "text": [
      "- Evaluating...Loaded 413 formulas from results/HDval-50K/formulas_val/ref.txt\n",
      "Loaded 413 formulas from results/HDval-50K/formulas_val/hyp_0.txt\n",
      "\r"
     ]
    },
    {
     "name": "stderr",
     "output_type": "stream",
     "text": [
      "- Eval: BLEU-4 31.67 - EM 0.00 - Edit 45.77 - perplexity -2.63\n",
      "- New best score (-2.63)!\n"
     ]
    },
    {
     "name": "stdout",
     "output_type": "stream",
     "text": [
      "==SAVING WEIGHTS===\n",
      "- Saving model...\r"
     ]
    },
    {
     "name": "stderr",
     "output_type": "stream",
     "text": [
      "- Saved model in results/HDval-50K/model.weights/\n",
      "- Elapsed time: 602.39, lr: 0.00010\n",
      "Epoch 5/30\n"
     ]
    },
    {
     "name": "stdout",
     "output_type": "stream",
     "text": [
      "1819/1819 [==============================] - 592s - loss: 0.6800 - perplexity: 1.9742 - lr: 0.0001   \n"
     ]
    },
    {
     "name": "stderr",
     "output_type": "stream",
     "text": [
      "- Training:  - 592s - loss: 0.6800 - perplexity: 1.9742 - lr: 0.0001\n"
     ]
    },
    {
     "name": "stdout",
     "output_type": "stream",
     "text": [
      "- Evaluating...Loaded 413 formulas from results/HDval-50K/formulas_val/ref.txt\n",
      "Loaded 413 formulas from results/HDval-50K/formulas_val/hyp_0.txt\n",
      "\r"
     ]
    },
    {
     "name": "stderr",
     "output_type": "stream",
     "text": [
      "- Eval: BLEU-4 30.28 - EM 0.00 - Edit 45.55 - perplexity -2.59\n",
      "- New best score (-2.59)!\n"
     ]
    },
    {
     "name": "stdout",
     "output_type": "stream",
     "text": [
      "==SAVING WEIGHTS===\n",
      "- Saving model...\r"
     ]
    },
    {
     "name": "stderr",
     "output_type": "stream",
     "text": [
      "- Saved model in results/HDval-50K/model.weights/\n",
      "- Elapsed time: 599.05, lr: 0.00010\n",
      "Epoch 6/30\n"
     ]
    },
    {
     "name": "stdout",
     "output_type": "stream",
     "text": [
      "1819/1819 [==============================] - 590s - loss: 0.6759 - perplexity: 1.9661 - lr: 0.0001   \n"
     ]
    },
    {
     "name": "stderr",
     "output_type": "stream",
     "text": [
      "- Training:  - 590s - loss: 0.6759 - perplexity: 1.9661 - lr: 0.0001\n"
     ]
    },
    {
     "name": "stdout",
     "output_type": "stream",
     "text": [
      "- Evaluating...Loaded 413 formulas from results/HDval-50K/formulas_val/ref.txt\n",
      "Loaded 413 formulas from results/HDval-50K/formulas_val/hyp_0.txt\n",
      "\r"
     ]
    },
    {
     "name": "stderr",
     "output_type": "stream",
     "text": [
      "- Eval: BLEU-4 30.28 - EM 0.00 - Edit 45.55 - perplexity -2.54\n",
      "- New best score (-2.54)!\n"
     ]
    },
    {
     "name": "stdout",
     "output_type": "stream",
     "text": [
      "==SAVING WEIGHTS===\n",
      "- Saving model...\r"
     ]
    },
    {
     "name": "stderr",
     "output_type": "stream",
     "text": [
      "- Saved model in results/HDval-50K/model.weights/\n",
      "- Elapsed time: 598.44, lr: 0.00010\n",
      "Epoch 7/30\n"
     ]
    },
    {
     "name": "stdout",
     "output_type": "stream",
     "text": [
      "1819/1819 [==============================] - 591s - loss: 0.6715 - perplexity: 1.9574 - lr: 0.0001   \n"
     ]
    },
    {
     "name": "stderr",
     "output_type": "stream",
     "text": [
      "- Training:  - 591s - loss: 0.6715 - perplexity: 1.9574 - lr: 0.0001\n"
     ]
    },
    {
     "name": "stdout",
     "output_type": "stream",
     "text": [
      "- Evaluating...Loaded 413 formulas from results/HDval-50K/formulas_val/ref.txt\n",
      "Loaded 413 formulas from results/HDval-50K/formulas_val/hyp_0.txt\n",
      "\r"
     ]
    },
    {
     "name": "stderr",
     "output_type": "stream",
     "text": [
      "- Eval: BLEU-4 31.05 - EM 0.00 - Edit 46.53 - perplexity -2.53\n",
      "- New best score (-2.53)!\n"
     ]
    },
    {
     "name": "stdout",
     "output_type": "stream",
     "text": [
      "==SAVING WEIGHTS===\n",
      "- Saving model...\r"
     ]
    },
    {
     "name": "stderr",
     "output_type": "stream",
     "text": [
      "- Saved model in results/HDval-50K/model.weights/\n",
      "- Elapsed time: 598.27, lr: 0.00010\n",
      "Epoch 8/30\n"
     ]
    },
    {
     "name": "stdout",
     "output_type": "stream",
     "text": [
      "1819/1819 [==============================] - 589s - loss: 0.6684 - perplexity: 1.9513 - lr: 0.0001   \n"
     ]
    },
    {
     "name": "stderr",
     "output_type": "stream",
     "text": [
      "- Training:  - 589s - loss: 0.6684 - perplexity: 1.9513 - lr: 0.0001\n"
     ]
    },
    {
     "name": "stdout",
     "output_type": "stream",
     "text": [
      "- Evaluating...Loaded 413 formulas from results/HDval-50K/formulas_val/ref.txt\n",
      "Loaded 413 formulas from results/HDval-50K/formulas_val/hyp_0.txt\n",
      "\r"
     ]
    },
    {
     "name": "stderr",
     "output_type": "stream",
     "text": [
      "- Eval: BLEU-4 31.12 - EM 0.00 - Edit 46.62 - perplexity -2.52\n",
      "- New best score (-2.52)!\n"
     ]
    },
    {
     "name": "stdout",
     "output_type": "stream",
     "text": [
      "==SAVING WEIGHTS===\n",
      "- Saving model...\r"
     ]
    },
    {
     "name": "stderr",
     "output_type": "stream",
     "text": [
      "- Saved model in results/HDval-50K/model.weights/\n",
      "- Elapsed time: 596.05, lr: 0.00010\n",
      "Epoch 9/30\n"
     ]
    },
    {
     "name": "stdout",
     "output_type": "stream",
     "text": [
      "1819/1819 [==============================] - 590s - loss: 0.6661 - perplexity: 1.9468 - lr: 0.0001   \n"
     ]
    },
    {
     "name": "stderr",
     "output_type": "stream",
     "text": [
      "- Training:  - 590s - loss: 0.6661 - perplexity: 1.9468 - lr: 0.0001\n"
     ]
    },
    {
     "name": "stdout",
     "output_type": "stream",
     "text": [
      "- Evaluating...Loaded 413 formulas from results/HDval-50K/formulas_val/ref.txt\n",
      "Loaded 413 formulas from results/HDval-50K/formulas_val/hyp_0.txt\n",
      "\r"
     ]
    },
    {
     "name": "stderr",
     "output_type": "stream",
     "text": [
      "- Eval: BLEU-4 32.47 - EM 0.00 - Edit 48.19 - perplexity -2.50\n",
      "- New best score (-2.50)!\n"
     ]
    },
    {
     "name": "stdout",
     "output_type": "stream",
     "text": [
      "==SAVING WEIGHTS===\n",
      "- Saving model...\r"
     ]
    },
    {
     "name": "stderr",
     "output_type": "stream",
     "text": [
      "- Saved model in results/HDval-50K/model.weights/\n",
      "- Elapsed time: 596.90, lr: 0.00010\n",
      "Epoch 10/30\n"
     ]
    },
    {
     "name": "stdout",
     "output_type": "stream",
     "text": [
      "1819/1819 [==============================] - 590s - loss: 0.6639 - perplexity: 1.9427 - lr: 0.0001   \n"
     ]
    },
    {
     "name": "stderr",
     "output_type": "stream",
     "text": [
      "- Training:  - 590s - loss: 0.6639 - perplexity: 1.9427 - lr: 0.0001\n"
     ]
    },
    {
     "name": "stdout",
     "output_type": "stream",
     "text": [
      "- Evaluating...Loaded 413 formulas from results/HDval-50K/formulas_val/ref.txt\n",
      "Loaded 413 formulas from results/HDval-50K/formulas_val/hyp_0.txt\n",
      "\r"
     ]
    },
    {
     "name": "stderr",
     "output_type": "stream",
     "text": [
      "- Eval: BLEU-4 34.60 - EM 0.00 - Edit 46.89 - perplexity -2.47\n",
      "- New best score (-2.47)!\n"
     ]
    },
    {
     "name": "stdout",
     "output_type": "stream",
     "text": [
      "==SAVING WEIGHTS===\n",
      "- Saving model...\r"
     ]
    },
    {
     "name": "stderr",
     "output_type": "stream",
     "text": [
      "- Saved model in results/HDval-50K/model.weights/\n",
      "- Elapsed time: 596.90, lr: 0.00010\n",
      "Epoch 11/30\n"
     ]
    },
    {
     "name": "stdout",
     "output_type": "stream",
     "text": [
      "1819/1819 [==============================] - 589s - loss: 0.6615 - perplexity: 1.9380 - lr: 0.0001   \n"
     ]
    },
    {
     "name": "stderr",
     "output_type": "stream",
     "text": [
      "- Training:  - 589s - loss: 0.6615 - perplexity: 1.9380 - lr: 0.0001\n"
     ]
    },
    {
     "name": "stdout",
     "output_type": "stream",
     "text": [
      "- Evaluating...Loaded 413 formulas from results/HDval-50K/formulas_val/ref.txt\n",
      "Loaded 413 formulas from results/HDval-50K/formulas_val/hyp_0.txt\n",
      "\r"
     ]
    },
    {
     "name": "stderr",
     "output_type": "stream",
     "text": [
      "- Eval: BLEU-4 35.39 - EM 0.00 - Edit 47.26 - perplexity -2.46\n",
      "- New best score (-2.46)!\n"
     ]
    },
    {
     "name": "stdout",
     "output_type": "stream",
     "text": [
      "==SAVING WEIGHTS===\n",
      "- Saving model...\r"
     ]
    },
    {
     "name": "stderr",
     "output_type": "stream",
     "text": [
      "- Saved model in results/HDval-50K/model.weights/\n",
      "- Elapsed time: 596.26, lr: 0.00010\n",
      "Epoch 12/30\n"
     ]
    },
    {
     "name": "stdout",
     "output_type": "stream",
     "text": [
      "1819/1819 [==============================] - 588s - loss: 0.6597 - perplexity: 1.9345 - lr: 0.0001   \n"
     ]
    },
    {
     "name": "stderr",
     "output_type": "stream",
     "text": [
      "- Training:  - 588s - loss: 0.6597 - perplexity: 1.9345 - lr: 0.0001\n"
     ]
    },
    {
     "name": "stdout",
     "output_type": "stream",
     "text": [
      "- Evaluating...Loaded 413 formulas from results/HDval-50K/formulas_val/ref.txt\n",
      "Loaded 413 formulas from results/HDval-50K/formulas_val/hyp_0.txt\n",
      "\r"
     ]
    },
    {
     "name": "stderr",
     "output_type": "stream",
     "text": [
      "- Eval: BLEU-4 30.78 - EM 0.00 - Edit 46.86 - perplexity -2.46\n",
      "- Elapsed time: 593.92, lr: 0.00010\n",
      "Epoch 13/30\n"
     ]
    },
    {
     "name": "stdout",
     "output_type": "stream",
     "text": [
      "1819/1819 [==============================] - 586s - loss: 0.6574 - perplexity: 1.9301 - lr: 0.0001   \n"
     ]
    },
    {
     "name": "stderr",
     "output_type": "stream",
     "text": [
      "- Training:  - 586s - loss: 0.6574 - perplexity: 1.9301 - lr: 0.0001\n"
     ]
    },
    {
     "name": "stdout",
     "output_type": "stream",
     "text": [
      "- Evaluating...Loaded 413 formulas from results/HDval-50K/formulas_val/ref.txt\n",
      "Loaded 413 formulas from results/HDval-50K/formulas_val/hyp_0.txt\n",
      "\r"
     ]
    },
    {
     "name": "stderr",
     "output_type": "stream",
     "text": [
      "- Eval: BLEU-4 31.55 - EM 0.00 - Edit 47.98 - perplexity -2.48\n",
      "- Elapsed time: 592.20, lr: 0.00010\n",
      "Epoch 14/30\n"
     ]
    },
    {
     "name": "stdout",
     "output_type": "stream",
     "text": [
      "1819/1819 [==============================] - 590s - loss: 0.6553 - perplexity: 1.9259 - lr: 0.0001   \n"
     ]
    },
    {
     "name": "stderr",
     "output_type": "stream",
     "text": [
      "- Training:  - 590s - loss: 0.6553 - perplexity: 1.9259 - lr: 0.0001\n"
     ]
    },
    {
     "name": "stdout",
     "output_type": "stream",
     "text": [
      "- Evaluating...Loaded 413 formulas from results/HDval-50K/formulas_val/ref.txt\n",
      "Loaded 413 formulas from results/HDval-50K/formulas_val/hyp_0.txt\n",
      "\r"
     ]
    },
    {
     "name": "stderr",
     "output_type": "stream",
     "text": [
      "- Eval: BLEU-4 29.65 - EM 0.00 - Edit 46.18 - perplexity -2.49\n",
      "- Elapsed time: 595.60, lr: 0.00010\n",
      "Epoch 15/30\n"
     ]
    },
    {
     "name": "stdout",
     "output_type": "stream",
     "text": [
      "1819/1819 [==============================] - 588s - loss: 0.6530 - perplexity: 1.9215 - lr: 0.0001   \n"
     ]
    },
    {
     "name": "stderr",
     "output_type": "stream",
     "text": [
      "- Training:  - 588s - loss: 0.6530 - perplexity: 1.9215 - lr: 0.0001\n"
     ]
    },
    {
     "name": "stdout",
     "output_type": "stream",
     "text": [
      "- Evaluating...Loaded 413 formulas from results/HDval-50K/formulas_val/ref.txt\n",
      "Loaded 413 formulas from results/HDval-50K/formulas_val/hyp_0.txt\n",
      "\r"
     ]
    },
    {
     "name": "stderr",
     "output_type": "stream",
     "text": [
      "- Eval: BLEU-4 27.59 - EM 0.00 - Edit 45.96 - perplexity -2.49\n",
      "- Elapsed time: 594.26, lr: 0.00010\n",
      "Epoch 16/30\n"
     ]
    },
    {
     "name": "stdout",
     "output_type": "stream",
     "text": [
      "1819/1819 [==============================] - 588s - loss: 0.6507 - perplexity: 1.9171 - lr: 0.0001   \n"
     ]
    },
    {
     "name": "stderr",
     "output_type": "stream",
     "text": [
      "- Training:  - 588s - loss: 0.6507 - perplexity: 1.9171 - lr: 0.0001\n"
     ]
    },
    {
     "name": "stdout",
     "output_type": "stream",
     "text": [
      "- Evaluating...Loaded 413 formulas from results/HDval-50K/formulas_val/ref.txt\n",
      "Loaded 413 formulas from results/HDval-50K/formulas_val/hyp_0.txt\n",
      "\r"
     ]
    },
    {
     "name": "stderr",
     "output_type": "stream",
     "text": [
      "- Eval: BLEU-4 29.66 - EM 0.00 - Edit 46.91 - perplexity -2.50\n",
      "- Elapsed time: 594.08, lr: 0.00010\n",
      "Epoch 17/30\n"
     ]
    },
    {
     "name": "stdout",
     "output_type": "stream",
     "text": [
      "1819/1819 [==============================] - 588s - loss: 0.6478 - perplexity: 1.9116 - lr: 0.0001   \n"
     ]
    },
    {
     "name": "stderr",
     "output_type": "stream",
     "text": [
      "- Training:  - 588s - loss: 0.6478 - perplexity: 1.9116 - lr: 0.0001\n"
     ]
    },
    {
     "name": "stdout",
     "output_type": "stream",
     "text": [
      "- Evaluating...Loaded 413 formulas from results/HDval-50K/formulas_val/ref.txt\n",
      "Loaded 413 formulas from results/HDval-50K/formulas_val/hyp_0.txt\n",
      "\r"
     ]
    },
    {
     "name": "stderr",
     "output_type": "stream",
     "text": [
      "- Eval: BLEU-4 27.26 - EM 0.00 - Edit 44.47 - perplexity -2.48\n",
      "- Elapsed time: 593.98, lr: 0.00010\n",
      "Epoch 18/30\n"
     ]
    },
    {
     "name": "stdout",
     "output_type": "stream",
     "text": [
      "1819/1819 [==============================] - 590s - loss: 0.6448 - perplexity: 1.9059 - lr: 0.0001   \n"
     ]
    },
    {
     "name": "stderr",
     "output_type": "stream",
     "text": [
      "- Training:  - 590s - loss: 0.6448 - perplexity: 1.9059 - lr: 0.0001\n"
     ]
    },
    {
     "name": "stdout",
     "output_type": "stream",
     "text": [
      "- Evaluating...Loaded 413 formulas from results/HDval-50K/formulas_val/ref.txt\n",
      "Loaded 413 formulas from results/HDval-50K/formulas_val/hyp_0.txt\n",
      "\r"
     ]
    },
    {
     "name": "stderr",
     "output_type": "stream",
     "text": [
      "- Eval: BLEU-4 26.59 - EM 0.00 - Edit 43.30 - perplexity -2.48\n",
      "- Elapsed time: 596.17, lr: 0.00010\n",
      "Epoch 19/30\n"
     ]
    },
    {
     "name": "stdout",
     "output_type": "stream",
     "text": [
      "1819/1819 [==============================] - 590s - loss: 0.6414 - perplexity: 1.8994 - lr: 0.0001   \n"
     ]
    },
    {
     "name": "stderr",
     "output_type": "stream",
     "text": [
      "- Training:  - 590s - loss: 0.6414 - perplexity: 1.8994 - lr: 0.0001\n"
     ]
    },
    {
     "name": "stdout",
     "output_type": "stream",
     "text": [
      "- Evaluating...Loaded 413 formulas from results/HDval-50K/formulas_val/ref.txt\n",
      "Loaded 413 formulas from results/HDval-50K/formulas_val/hyp_0.txt\n",
      "\r"
     ]
    },
    {
     "name": "stderr",
     "output_type": "stream",
     "text": [
      "- Eval: BLEU-4 33.47 - EM 0.00 - Edit 46.42 - perplexity -2.49\n",
      "- Elapsed time: 595.44, lr: 0.00010\n",
      "Epoch 20/30\n"
     ]
    },
    {
     "name": "stdout",
     "output_type": "stream",
     "text": [
      "1819/1819 [==============================] - 590s - loss: 0.6377 - perplexity: 1.8924 - lr: 0.0001   \n"
     ]
    },
    {
     "name": "stderr",
     "output_type": "stream",
     "text": [
      "- Training:  - 590s - loss: 0.6377 - perplexity: 1.8924 - lr: 0.0001\n"
     ]
    },
    {
     "name": "stdout",
     "output_type": "stream",
     "text": [
      "- Evaluating...Loaded 413 formulas from results/HDval-50K/formulas_val/ref.txt\n",
      "Loaded 413 formulas from results/HDval-50K/formulas_val/hyp_0.txt\n",
      "\r"
     ]
    },
    {
     "name": "stderr",
     "output_type": "stream",
     "text": [
      "- Eval: BLEU-4 29.64 - EM 0.00 - Edit 46.54 - perplexity -2.51\n",
      "- Elapsed time: 595.71, lr: 0.00010\n",
      "Epoch 21/30\n"
     ]
    },
    {
     "name": "stdout",
     "output_type": "stream",
     "text": [
      "1819/1819 [==============================] - 590s - loss: 0.6265 - perplexity: 1.8714 - lr: 0.0001   \n"
     ]
    },
    {
     "name": "stderr",
     "output_type": "stream",
     "text": [
      "- Training:  - 590s - loss: 0.6265 - perplexity: 1.8714 - lr: 0.0001\n"
     ]
    },
    {
     "name": "stdout",
     "output_type": "stream",
     "text": [
      "- Evaluating...Loaded 413 formulas from results/HDval-50K/formulas_val/ref.txt\n",
      "Loaded 413 formulas from results/HDval-50K/formulas_val/hyp_0.txt\n",
      "\r"
     ]
    },
    {
     "name": "stderr",
     "output_type": "stream",
     "text": [
      "- Eval: BLEU-4 27.50 - EM 0.00 - Edit 44.88 - perplexity -2.45\n",
      "- New best score (-2.45)!\n"
     ]
    },
    {
     "name": "stdout",
     "output_type": "stream",
     "text": [
      "==SAVING WEIGHTS===\n",
      "- Saving model...\r"
     ]
    },
    {
     "name": "stderr",
     "output_type": "stream",
     "text": [
      "- Saved model in results/HDval-50K/model.weights/\n",
      "- Elapsed time: 598.07, lr: 0.00010\n",
      "Epoch 22/30\n"
     ]
    },
    {
     "name": "stdout",
     "output_type": "stream",
     "text": [
      "1819/1819 [==============================] - 593s - loss: 0.6025 - perplexity: 1.8271 - lr: 0.0001   \n"
     ]
    },
    {
     "name": "stderr",
     "output_type": "stream",
     "text": [
      "- Training:  - 593s - loss: 0.6025 - perplexity: 1.8271 - lr: 0.0001\n"
     ]
    },
    {
     "name": "stdout",
     "output_type": "stream",
     "text": [
      "- Evaluating...Loaded 413 formulas from results/HDval-50K/formulas_val/ref.txt\n",
      "Loaded 413 formulas from results/HDval-50K/formulas_val/hyp_0.txt\n",
      "\r"
     ]
    },
    {
     "name": "stderr",
     "output_type": "stream",
     "text": [
      "- Eval: BLEU-4 29.50 - EM 0.00 - Edit 48.35 - perplexity -2.38\n",
      "- New best score (-2.38)!\n"
     ]
    },
    {
     "name": "stdout",
     "output_type": "stream",
     "text": [
      "==SAVING WEIGHTS===\n",
      "- Saving model...\r"
     ]
    },
    {
     "name": "stderr",
     "output_type": "stream",
     "text": [
      "- Saved model in results/HDval-50K/model.weights/\n",
      "- Elapsed time: 600.83, lr: 0.00010\n",
      "Epoch 23/30\n"
     ]
    },
    {
     "name": "stdout",
     "output_type": "stream",
     "text": [
      "1819/1819 [==============================] - 594s - loss: 0.5725 - perplexity: 1.7731 - lr: 0.0001   \n"
     ]
    },
    {
     "name": "stderr",
     "output_type": "stream",
     "text": [
      "- Training:  - 594s - loss: 0.5725 - perplexity: 1.7731 - lr: 0.0001\n"
     ]
    },
    {
     "name": "stdout",
     "output_type": "stream",
     "text": [
      "- Evaluating...Loaded 413 formulas from results/HDval-50K/formulas_val/ref.txt\n",
      "Loaded 413 formulas from results/HDval-50K/formulas_val/hyp_0.txt\n",
      "\r"
     ]
    },
    {
     "name": "stderr",
     "output_type": "stream",
     "text": [
      "- Eval: BLEU-4 31.67 - EM 0.00 - Edit 49.86 - perplexity -2.29\n",
      "- New best score (-2.29)!\n"
     ]
    },
    {
     "name": "stdout",
     "output_type": "stream",
     "text": [
      "==SAVING WEIGHTS===\n",
      "- Saving model...\r"
     ]
    },
    {
     "name": "stderr",
     "output_type": "stream",
     "text": [
      "- Saved model in results/HDval-50K/model.weights/\n",
      "- Elapsed time: 601.95, lr: 0.00010\n",
      "Epoch 24/30\n"
     ]
    },
    {
     "name": "stdout",
     "output_type": "stream",
     "text": [
      "1819/1819 [==============================] - 594s - loss: 0.5248 - perplexity: 1.6908 - lr: 0.0001   \n"
     ]
    },
    {
     "name": "stderr",
     "output_type": "stream",
     "text": [
      "- Training:  - 594s - loss: 0.5248 - perplexity: 1.6908 - lr: 0.0001\n"
     ]
    },
    {
     "name": "stdout",
     "output_type": "stream",
     "text": [
      "- Evaluating...Loaded 413 formulas from results/HDval-50K/formulas_val/ref.txt\n",
      "Loaded 413 formulas from results/HDval-50K/formulas_val/hyp_0.txt\n",
      "\r"
     ]
    },
    {
     "name": "stderr",
     "output_type": "stream",
     "text": [
      "- Eval: BLEU-4 35.78 - EM 0.00 - Edit 53.59 - perplexity -2.21\n",
      "- New best score (-2.21)!\n"
     ]
    },
    {
     "name": "stdout",
     "output_type": "stream",
     "text": [
      "==SAVING WEIGHTS===\n",
      "- Saving model...\r"
     ]
    },
    {
     "name": "stderr",
     "output_type": "stream",
     "text": [
      "- Saved model in results/HDval-50K/model.weights/\n",
      "- Elapsed time: 601.75, lr: 0.00010\n",
      "Epoch 25/30\n"
     ]
    },
    {
     "name": "stdout",
     "output_type": "stream",
     "text": [
      "1819/1819 [==============================] - 594s - loss: 0.4764 - perplexity: 1.6109 - lr: 0.0001   \n"
     ]
    },
    {
     "name": "stderr",
     "output_type": "stream",
     "text": [
      "- Training:  - 594s - loss: 0.4764 - perplexity: 1.6109 - lr: 0.0001\n"
     ]
    },
    {
     "name": "stdout",
     "output_type": "stream",
     "text": [
      "- Evaluating...Loaded 413 formulas from results/HDval-50K/formulas_val/ref.txt\n",
      "Loaded 413 formulas from results/HDval-50K/formulas_val/hyp_0.txt\n",
      "\r"
     ]
    },
    {
     "name": "stderr",
     "output_type": "stream",
     "text": [
      "- Eval: BLEU-4 40.77 - EM 0.24 - Edit 57.02 - perplexity -2.13\n",
      "- New best score (-2.13)!\n"
     ]
    },
    {
     "name": "stdout",
     "output_type": "stream",
     "text": [
      "==SAVING WEIGHTS===\n",
      "- Saving model...\r"
     ]
    },
    {
     "name": "stderr",
     "output_type": "stream",
     "text": [
      "- Saved model in results/HDval-50K/model.weights/\n",
      "- Elapsed time: 601.72, lr: 0.00010\n",
      "Epoch 26/30\n"
     ]
    },
    {
     "name": "stdout",
     "output_type": "stream",
     "text": [
      "1819/1819 [==============================] - 593s - loss: 0.4322 - perplexity: 1.5413 - lr: 0.0001   \n"
     ]
    },
    {
     "name": "stderr",
     "output_type": "stream",
     "text": [
      "- Training:  - 593s - loss: 0.4322 - perplexity: 1.5413 - lr: 0.0001\n"
     ]
    },
    {
     "name": "stdout",
     "output_type": "stream",
     "text": [
      "- Evaluating...Loaded 413 formulas from results/HDval-50K/formulas_val/ref.txt\n",
      "Loaded 413 formulas from results/HDval-50K/formulas_val/hyp_0.txt\n",
      "\r"
     ]
    },
    {
     "name": "stderr",
     "output_type": "stream",
     "text": [
      "- Eval: BLEU-4 44.27 - EM 0.24 - Edit 58.51 - perplexity -2.08\n",
      "- New best score (-2.08)!\n"
     ]
    },
    {
     "name": "stdout",
     "output_type": "stream",
     "text": [
      "==SAVING WEIGHTS===\n",
      "- Saving model...\r"
     ]
    },
    {
     "name": "stderr",
     "output_type": "stream",
     "text": [
      "- Saved model in results/HDval-50K/model.weights/\n",
      "- Elapsed time: 600.79, lr: 0.00010\n",
      "Epoch 27/30\n"
     ]
    },
    {
     "name": "stdout",
     "output_type": "stream",
     "text": [
      "1819/1819 [==============================] - 594s - loss: 0.3946 - perplexity: 1.4845 - lr: 0.0001   \n"
     ]
    },
    {
     "name": "stderr",
     "output_type": "stream",
     "text": [
      "- Training:  - 594s - loss: 0.3946 - perplexity: 1.4845 - lr: 0.0001\n"
     ]
    },
    {
     "name": "stdout",
     "output_type": "stream",
     "text": [
      "- Evaluating...Loaded 413 formulas from results/HDval-50K/formulas_val/ref.txt\n",
      "Loaded 413 formulas from results/HDval-50K/formulas_val/hyp_0.txt\n",
      "\r"
     ]
    },
    {
     "name": "stderr",
     "output_type": "stream",
     "text": [
      "- Eval: BLEU-4 47.77 - EM 0.24 - Edit 59.91 - perplexity -2.08\n",
      "- New best score (-2.08)!\n"
     ]
    },
    {
     "name": "stdout",
     "output_type": "stream",
     "text": [
      "==SAVING WEIGHTS===\n",
      "- Saving model...\r"
     ]
    },
    {
     "name": "stderr",
     "output_type": "stream",
     "text": [
      "- Saved model in results/HDval-50K/model.weights/\n",
      "- Elapsed time: 600.93, lr: 0.00010\n",
      "Epoch 28/30\n"
     ]
    },
    {
     "name": "stdout",
     "output_type": "stream",
     "text": [
      "1819/1819 [==============================] - 595s - loss: 0.3634 - perplexity: 1.4389 - lr: 0.0001   \n"
     ]
    },
    {
     "name": "stderr",
     "output_type": "stream",
     "text": [
      "- Training:  - 595s - loss: 0.3634 - perplexity: 1.4389 - lr: 0.0001\n"
     ]
    },
    {
     "name": "stdout",
     "output_type": "stream",
     "text": [
      "- Evaluating...Loaded 413 formulas from results/HDval-50K/formulas_val/ref.txt\n",
      "Loaded 413 formulas from results/HDval-50K/formulas_val/hyp_0.txt\n",
      "\r"
     ]
    },
    {
     "name": "stderr",
     "output_type": "stream",
     "text": [
      "- Eval: BLEU-4 50.89 - EM 0.24 - Edit 60.73 - perplexity -2.06\n",
      "- New best score (-2.06)!\n"
     ]
    },
    {
     "name": "stdout",
     "output_type": "stream",
     "text": [
      "==SAVING WEIGHTS===\n",
      "- Saving model...\r"
     ]
    },
    {
     "name": "stderr",
     "output_type": "stream",
     "text": [
      "- Saved model in results/HDval-50K/model.weights/\n",
      "- Elapsed time: 602.49, lr: 0.00010\n",
      "Epoch 29/30\n"
     ]
    },
    {
     "name": "stdout",
     "output_type": "stream",
     "text": [
      "1819/1819 [==============================] - 595s - loss: 0.3358 - perplexity: 1.3997 - lr: 0.0001   \n"
     ]
    },
    {
     "name": "stderr",
     "output_type": "stream",
     "text": [
      "- Training:  - 595s - loss: 0.3358 - perplexity: 1.3997 - lr: 0.0001\n"
     ]
    },
    {
     "name": "stdout",
     "output_type": "stream",
     "text": [
      "- Evaluating...Loaded 413 formulas from results/HDval-50K/formulas_val/ref.txt\n",
      "Loaded 413 formulas from results/HDval-50K/formulas_val/hyp_0.txt\n",
      "\r"
     ]
    },
    {
     "name": "stderr",
     "output_type": "stream",
     "text": [
      "- Eval: BLEU-4 51.21 - EM 0.73 - Edit 60.88 - perplexity -2.13\n",
      "- Elapsed time: 600.77, lr: 0.00010\n",
      "Epoch 30/30\n"
     ]
    },
    {
     "name": "stdout",
     "output_type": "stream",
     "text": [
      "1819/1819 [==============================] - 596s - loss: 0.3121 - perplexity: 1.3670 - lr: 0.0001   \n"
     ]
    },
    {
     "name": "stderr",
     "output_type": "stream",
     "text": [
      "- Training:  - 596s - loss: 0.3121 - perplexity: 1.3670 - lr: 0.0001\n"
     ]
    },
    {
     "name": "stdout",
     "output_type": "stream",
     "text": [
      "- Evaluating...Loaded 413 formulas from results/HDval-50K/formulas_val/ref.txt\n",
      "Loaded 413 formulas from results/HDval-50K/formulas_val/hyp_0.txt\n",
      "\r"
     ]
    },
    {
     "name": "stderr",
     "output_type": "stream",
     "text": [
      "- Eval: BLEU-4 52.78 - EM 0.24 - Edit 62.06 - perplexity -2.08\n",
      "- Elapsed time: 601.68, lr: 0.00010\n"
     ]
    }
   ],
   "source": [
    "if __name__ == \"__main__\":\n",
    "    \n",
    "    main(data = 'configs/data_HDval-50K.json',\n",
    "    vocab = 'configs/vocab.json',\n",
    "    training = 'configs/training.json',\n",
    "    model = 'configs/model.json',\n",
    "    output = 'results/HDval-50K/' )"
   ]
  },
  {
   "cell_type": "code",
   "execution_count": null,
   "id": "53295d91",
   "metadata": {},
   "outputs": [],
   "source": [
    "   "
   ]
  }
 ],
 "metadata": {
  "kernelspec": {
   "display_name": "Python 3 (ipykernel)",
   "language": "python",
   "name": "python3"
  },
  "language_info": {
   "codemirror_mode": {
    "name": "ipython",
    "version": 3
   },
   "file_extension": ".py",
   "mimetype": "text/x-python",
   "name": "python",
   "nbconvert_exporter": "python",
   "pygments_lexer": "ipython3",
   "version": "3.9.15"
  }
 },
 "nbformat": 4,
 "nbformat_minor": 5
}
