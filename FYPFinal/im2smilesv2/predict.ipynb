{
 "cells": [
  {
   "cell_type": "code",
   "execution_count": 1,
   "id": "9dbfe120",
   "metadata": {},
   "outputs": [],
   "source": [
    "import cv2\n",
    "\n",
    "from model.img2seq import Img2SeqModel\n",
    "from model.utils.general import Config, run\n",
    "from model.utils.text import Vocab\n",
    "from model.utils.image import greyscale, pad_image, \\\n",
    "    downsample_image, TIMEOUT\n",
    "\n",
    "\n",
    "\n",
    "def interactive_shell(model):\n",
    "    \"\"\"Creates interactive shell to play with model\n",
    "    \"\"\"\n",
    "    model.logger.info(\"\"\"\n",
    "This is an interactive mode.\n",
    "To exit, enter 'exit'.\n",
    "Enter a path to a file\n",
    "input> data/images_test/0.png\"\"\")\n",
    "\n",
    "    while True:\n",
    "        try:\n",
    "            # for python 2\n",
    "            img_path = raw_input(\"input> \")\n",
    "        except NameError:\n",
    "            # for python 3\n",
    "            img_path = input(\"input> \")\n",
    "\n",
    "        if img_path == \"exit\":\n",
    "            break\n",
    "\n",
    "        img = cv2.imread(img_path)\n",
    "\n",
    "        img = cv2.resize(img, (256, 256))\n",
    "        img = greyscale(img)\n",
    "        hyps = model.predict(img)\n",
    "\n",
    "        model.logger.info(hyps[0])"
   ]
  },
  {
   "cell_type": "code",
   "execution_count": null,
   "id": "c1feaf96",
   "metadata": {},
   "outputs": [
    {
     "name": "stderr",
     "output_type": "stream",
     "text": [
      "Building model...\n"
     ]
    },
    {
     "name": "stdout",
     "output_type": "stream",
     "text": [
      "results/clean-RDKit-500K/vocab.json\n",
      "results/clean-RDKit-500K/model.json\n"
     ]
    },
    {
     "name": "stderr",
     "output_type": "stream",
     "text": [
      "Z:\\FYP\\im2smilesv2\\model\\encoder.py:31: UserWarning: `tf.layers.conv2d` is deprecated and will be removed in a future version. Please Use `tf.keras.layers.Conv2D` instead.\n",
      "  out = tf.compat.v1.layers.conv2d(img, 64, 3, 1, \"SAME\",\n",
      "Z:\\FYP\\im2smilesv2\\model\\encoder.py:33: UserWarning: `tf.layers.max_pooling2d` is deprecated and will be removed in a future version. Please use `tf.keras.layers.MaxPooling2D` instead.\n",
      "  out = tf.compat.v1.layers.max_pooling2d(out, 2, 2, \"SAME\")\n",
      "Z:\\FYP\\im2smilesv2\\model\\encoder.py:36: UserWarning: `tf.layers.conv2d` is deprecated and will be removed in a future version. Please Use `tf.keras.layers.Conv2D` instead.\n",
      "  out = tf.compat.v1.layers.conv2d(out, 128, 3, 1, \"SAME\",\n",
      "Z:\\FYP\\im2smilesv2\\model\\encoder.py:38: UserWarning: `tf.layers.max_pooling2d` is deprecated and will be removed in a future version. Please use `tf.keras.layers.MaxPooling2D` instead.\n",
      "  out = tf.compat.v1.layers.max_pooling2d(out, 2, 2, \"SAME\")\n",
      "Z:\\FYP\\im2smilesv2\\model\\encoder.py:41: UserWarning: `tf.layers.conv2d` is deprecated and will be removed in a future version. Please Use `tf.keras.layers.Conv2D` instead.\n",
      "  out = tf.compat.v1.layers.conv2d(out, 256, 3, 1, \"SAME\",\n",
      "Z:\\FYP\\im2smilesv2\\model\\encoder.py:44: UserWarning: `tf.layers.conv2d` is deprecated and will be removed in a future version. Please Use `tf.keras.layers.Conv2D` instead.\n",
      "  out = tf.compat.v1.layers.conv2d(out, 256, 3, 1, \"SAME\",\n",
      "Z:\\FYP\\im2smilesv2\\model\\encoder.py:48: UserWarning: `tf.layers.max_pooling2d` is deprecated and will be removed in a future version. Please use `tf.keras.layers.MaxPooling2D` instead.\n",
      "  out = tf.compat.v1.layers.max_pooling2d(out, (2, 1), (2, 1), \"SAME\")\n",
      "Z:\\FYP\\im2smilesv2\\model\\encoder.py:50: UserWarning: `tf.layers.conv2d` is deprecated and will be removed in a future version. Please Use `tf.keras.layers.Conv2D` instead.\n",
      "  out = tf.compat.v1.layers.conv2d(out, 512, 3, 1, \"SAME\",\n",
      "Z:\\FYP\\im2smilesv2\\model\\encoder.py:54: UserWarning: `tf.layers.max_pooling2d` is deprecated and will be removed in a future version. Please use `tf.keras.layers.MaxPooling2D` instead.\n",
      "  out = tf.compat.v1.layers.max_pooling2d(out, (1, 2), (1, 2), \"SAME\")\n",
      "Z:\\FYP\\im2smilesv2\\model\\encoder.py:61: UserWarning: `tf.layers.conv2d` is deprecated and will be removed in a future version. Please Use `tf.keras.layers.Conv2D` instead.\n",
      "  out = tf.compat.v1.layers.conv2d(out, 512, 3, 1, \"VALID\",\n",
      "Z:\\FYP\\im2smilesv2\\model\\components\\attention_mechanism.py:40: UserWarning: `tf.layers.dense` is deprecated and will be removed in a future version. Please use `tf.keras.layers.Dense` instead.\n",
      "  self._att_img = tf.compat.v1.layers.dense(\n"
     ]
    },
    {
     "name": "stdout",
     "output_type": "stream",
     "text": [
      "WARNING:tensorflow:From Z:\\FYP\\im2smilesv2\\model\\decoder.py:58: dynamic_rnn (from tensorflow.python.ops.rnn) is deprecated and will be removed in a future version.\n",
      "Instructions for updating:\n",
      "Please use `keras.layers.RNN(cell)`, which is equivalent to this API\n"
     ]
    },
    {
     "name": "stderr",
     "output_type": "stream",
     "text": [
      "C:\\Users\\Yuriy\\AppData\\Roaming\\Python\\Python39\\site-packages\\tensorflow\\python\\keras\\layers\\legacy_rnn\\rnn_cell_impl.py:913: UserWarning: `tf.nn.rnn_cell.LSTMCell` is deprecated and will be removed in a future version. This class is equivalent as `tf.keras.layers.LSTMCell`, and will be replaced by that in Tensorflow 2.0.\n",
      "  warnings.warn(\"`tf.nn.rnn_cell.LSTMCell` is deprecated and will be \"\n",
      "From Z:\\FYP\\im2smilesv2\\model\\decoder.py:58: dynamic_rnn (from tensorflow.python.ops.rnn) is deprecated and will be removed in a future version.\n",
      "Instructions for updating:\n",
      "Please use `keras.layers.RNN(cell)`, which is equivalent to this API\n"
     ]
    },
    {
     "name": "stdout",
     "output_type": "stream",
     "text": [
      "WARNING:tensorflow:From C:\\Users\\Yuriy\\AppData\\Roaming\\Python\\Python39\\site-packages\\tensorflow\\python\\keras\\layers\\legacy_rnn\\rnn_cell_impl.py:991: calling Zeros.__init__ (from tensorflow.python.ops.init_ops) with dtype is deprecated and will be removed in a future version.\n",
      "Instructions for updating:\n",
      "Call initializer instance with the dtype argument instead of passing it to the constructor\n"
     ]
    },
    {
     "name": "stderr",
     "output_type": "stream",
     "text": [
      "C:\\Users\\Yuriy\\AppData\\Roaming\\Python\\Python39\\site-packages\\tensorflow\\python\\keras\\engine\\base_layer_v1.py:1702: UserWarning: `layer.add_variable` is deprecated and will be removed in a future version. Please use `layer.add_weight` method instead.\n",
      "  warnings.warn('`layer.add_variable` is deprecated and '\n",
      "From C:\\Users\\Yuriy\\AppData\\Roaming\\Python\\Python39\\site-packages\\tensorflow\\python\\keras\\layers\\legacy_rnn\\rnn_cell_impl.py:991: calling Zeros.__init__ (from tensorflow.python.ops.init_ops) with dtype is deprecated and will be removed in a future version.\n",
      "Instructions for updating:\n",
      "Call initializer instance with the dtype argument instead of passing it to the constructor\n",
      "Z:\\FYP\\im2smilesv2\\model\\components\\attention_mechanism.py:72: UserWarning: `tf.layers.dense` is deprecated and will be removed in a future version. Please use `tf.keras.layers.Dense` instead.\n",
      "  att_h = tf.compat.v1.layers.dense(inputs=h, units=self._dim_e, use_bias=False)\n"
     ]
    },
    {
     "name": "stdout",
     "output_type": "stream",
     "text": [
      "WARNING:tensorflow:From Z:\\FYP\\im2smilesv2\\model\\components\\dynamic_decode.py:58: calling while_loop_v2 (from tensorflow.python.ops.control_flow_ops) with back_prop=False is deprecated and will be removed in a future version.\n",
      "Instructions for updating:\n",
      "back_prop=False is deprecated. Consider using tf.stop_gradient instead.\n",
      "Instead of:\n",
      "results = tf.while_loop(c, b, vars, back_prop=False)\n",
      "Use:\n",
      "results = tf.nest.map_structure(tf.stop_gradient, tf.while_loop(c, b, vars))\n"
     ]
    },
    {
     "name": "stderr",
     "output_type": "stream",
     "text": [
      "From Z:\\FYP\\im2smilesv2\\model\\components\\dynamic_decode.py:58: calling while_loop_v2 (from tensorflow.python.ops.control_flow_ops) with back_prop=False is deprecated and will be removed in a future version.\n",
      "Instructions for updating:\n",
      "back_prop=False is deprecated. Consider using tf.stop_gradient instead.\n",
      "Instead of:\n",
      "results = tf.while_loop(c, b, vars, back_prop=False)\n",
      "Use:\n",
      "results = tf.nest.map_structure(tf.stop_gradient, tf.while_loop(c, b, vars))\n"
     ]
    },
    {
     "name": "stdout",
     "output_type": "stream",
     "text": [
      "Device mapping:\n",
      "/job:localhost/replica:0/task:0/device:GPU:0 -> device: 0, name: NVIDIA GeForce RTX 3080, pci bus id: 0000:01:00.0, compute capability: 8.6\n",
      "\n"
     ]
    },
    {
     "name": "stderr",
     "output_type": "stream",
     "text": [
      "- done.\n",
      "Reloading the latest trained model...\n"
     ]
    },
    {
     "name": "stdout",
     "output_type": "stream",
     "text": [
      "INFO:tensorflow:Restoring parameters from results/clean-RDKit-500K/model.weights/\n"
     ]
    },
    {
     "name": "stderr",
     "output_type": "stream",
     "text": [
      "Restoring parameters from results/clean-RDKit-500K/model.weights/\n",
      "\n",
      "This is an interactive mode.\n",
      "To exit, enter 'exit'.\n",
      "Enter a path to a file\n",
      "input> data/images_test/0.png\n"
     ]
    },
    {
     "name": "stdout",
     "output_type": "stream",
     "text": [
      "input> Z:\\FYP\\im2smilesv2\\test\\3.png\n"
     ]
    },
    {
     "name": "stderr",
     "output_type": "stream",
     "text": [
      "C#CC(C)=C(CC)C)CCC)CC\n"
     ]
    },
    {
     "name": "stdout",
     "output_type": "stream",
     "text": [
      "input> Z:\\FYP\\data\\clean-RDKit\\10K\\train_images\\0.png\n"
     ]
    },
    {
     "name": "stderr",
     "output_type": "stream",
     "text": [
      "CCCC1=C(C)C(C)C(CC)CC(C)CC\n"
     ]
    },
    {
     "name": "stdout",
     "output_type": "stream",
     "text": [
      "input> Z:\\FYP\\data\\clean-RDKit\\10K\\train_images\\1.png\n"
     ]
    },
    {
     "name": "stderr",
     "output_type": "stream",
     "text": [
      "C=C1C=CCCC1=CC1CCC1\n"
     ]
    },
    {
     "name": "stdout",
     "output_type": "stream",
     "text": [
      "input> Z:\\FYP\\data\\clean-RDKit\\10K\\train_images\\2.png\n"
     ]
    },
    {
     "name": "stderr",
     "output_type": "stream",
     "text": [
      "C#CC#CC(C)C(C#C)CCCC\n"
     ]
    },
    {
     "name": "stdout",
     "output_type": "stream",
     "text": [
      "input> Z:\\FYP\\data\\clean-RDKit\\10K\\train_images\\3.png\n"
     ]
    },
    {
     "name": "stderr",
     "output_type": "stream",
     "text": [
      "C#CC(C)=C(CC)C)CCC)CC\n"
     ]
    },
    {
     "name": "stdout",
     "output_type": "stream",
     "text": [
      "input> Z:\\FYP\\data\\clean-RDKit\\10K\\train_images\\4.png\n"
     ]
    },
    {
     "name": "stderr",
     "output_type": "stream",
     "text": [
      "C=CC1C=CCC(=CCC)C=C1\n"
     ]
    },
    {
     "name": "stdout",
     "output_type": "stream",
     "text": [
      "input> Z:\\FYP\\data\\clean-RDKit\\10K\\train_images\\5.png\n"
     ]
    },
    {
     "name": "stderr",
     "output_type": "stream",
     "text": [
      "C=CCC1=CCCCC1(C)C(C)C\n"
     ]
    }
   ],
   "source": [
    "if __name__ == \"__main__\":\n",
    "    # restore config and model\n",
    "    dir_output = \"results/clean-RDKit-500K/\"\n",
    "    config_vocab = Config(dir_output + \"vocab.json\")\n",
    "    config_model = Config(dir_output + \"model.json\")\n",
    "    vocab = Vocab(config_vocab)\n",
    "\n",
    "    model = Img2SeqModel(config_model, dir_output, vocab)\n",
    "    model.build_pred()\n",
    "    model.restore_session(dir_output + \"model.weights/\")\n",
    "\n",
    "    interactive_shell(model)"
   ]
  },
  {
   "cell_type": "code",
   "execution_count": null,
   "id": "3a7c5893",
   "metadata": {},
   "outputs": [],
   "source": []
  }
 ],
 "metadata": {
  "kernelspec": {
   "display_name": "Python 3 (ipykernel)",
   "language": "python",
   "name": "python3"
  },
  "language_info": {
   "codemirror_mode": {
    "name": "ipython",
    "version": 3
   },
   "file_extension": ".py",
   "mimetype": "text/x-python",
   "name": "python",
   "nbconvert_exporter": "python",
   "pygments_lexer": "ipython3",
   "version": "3.9.15"
  }
 },
 "nbformat": 4,
 "nbformat_minor": 5
}
