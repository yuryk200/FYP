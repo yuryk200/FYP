{
 "cells": [
  {
   "cell_type": "code",
   "execution_count": 2,
   "id": "a5ca5d80",
   "metadata": {},
   "outputs": [],
   "source": [
    "from model.utils.data_generator import DataGenerator\n",
    "from model.img2seq import Img2SeqModel\n",
    "from model.utils.general import Config\n",
    "from model.utils.text import Vocab\n",
    "from model.utils.image import greyscale\n",
    "from model.utils.text import load_formulas\n",
    "from model.evaluation.text import score_files"
   ]
  },
  {
   "cell_type": "code",
   "execution_count": 3,
   "id": "907e6ebe",
   "metadata": {},
   "outputs": [],
   "source": [
    "def main(results):\n",
    "    # restore config and model\n",
    "    dir_output = results\n",
    "\n",
    "    config_data  = Config(dir_output + \"data.json\")\n",
    "    config_vocab = Config(dir_output + \"vocab.json\")\n",
    "    config_model = Config(dir_output + \"model.json\")\n",
    "\n",
    "    vocab = Vocab(config_vocab)\n",
    "    model = Img2SeqModel(config_model, dir_output, vocab)\n",
    "    model.build_pred()\n",
    "    model.restore_session(dir_output + \"model.weights/\")\n",
    "\n",
    "    # load dataset\n",
    "    test_set = DataGenerator(path_formulas=config_data.path_formulas_test,\n",
    "            dir_images=config_data.dir_images_test, img_prepro=greyscale,\n",
    "            max_iter=config_data.max_iter, bucket=config_data.bucket_test,\n",
    "            path_index=config_data.path_index_test,\n",
    "            max_len=config_data.max_length_formula,\n",
    "            form_prepro=vocab.form_prepro,)\n",
    "\n",
    "    # use model to write predictions in files\n",
    "    config_eval = Config({\"dir_answers\": dir_output + \"formulas_test/\",\n",
    "                          \"batch_size\": 20})\n",
    "    files, perplexity = model.write_prediction(config_eval, test_set)\n",
    "    formula_ref, formula_hyp = files[0], files[1]\n",
    "\n",
    "    # score the ref and prediction files\n",
    "    scores = score_files(formula_ref, formula_hyp)\n",
    "    scores[\"perplexity\"] = perplexity\n",
    "    msg = \" - \".join([\"{} {:04.2f}\".format(k, v) for k, v in scores.items()])\n",
    "    model.logger.info(\"- Test Txt: {}\".format(msg))"
   ]
  },
  {
   "cell_type": "code",
   "execution_count": 5,
   "id": "ba708516",
   "metadata": {
    "scrolled": true
   },
   "outputs": [
    {
     "name": "stderr",
     "output_type": "stream",
     "text": [
      "Building model...\n"
     ]
    },
    {
     "name": "stdout",
     "output_type": "stream",
     "text": [
      "results/clean-RDKit-500K/data.json\n",
      "results/clean-RDKit-500K/vocab.json\n",
      "results/clean-RDKit-500K/model.json\n"
     ]
    },
    {
     "name": "stderr",
     "output_type": "stream",
     "text": [
      "Z:\\FYP\\im2smilesv2\\model\\encoder.py:31: UserWarning: `tf.layers.conv2d` is deprecated and will be removed in a future version. Please Use `tf.keras.layers.Conv2D` instead.\n",
      "  out = tf.compat.v1.layers.conv2d(img, 64, 3, 1, \"SAME\",\n",
      "Z:\\FYP\\im2smilesv2\\model\\encoder.py:33: UserWarning: `tf.layers.max_pooling2d` is deprecated and will be removed in a future version. Please use `tf.keras.layers.MaxPooling2D` instead.\n",
      "  out = tf.compat.v1.layers.max_pooling2d(out, 2, 2, \"SAME\")\n",
      "Z:\\FYP\\im2smilesv2\\model\\encoder.py:36: UserWarning: `tf.layers.conv2d` is deprecated and will be removed in a future version. Please Use `tf.keras.layers.Conv2D` instead.\n",
      "  out = tf.compat.v1.layers.conv2d(out, 128, 3, 1, \"SAME\",\n",
      "Z:\\FYP\\im2smilesv2\\model\\encoder.py:38: UserWarning: `tf.layers.max_pooling2d` is deprecated and will be removed in a future version. Please use `tf.keras.layers.MaxPooling2D` instead.\n",
      "  out = tf.compat.v1.layers.max_pooling2d(out, 2, 2, \"SAME\")\n",
      "Z:\\FYP\\im2smilesv2\\model\\encoder.py:41: UserWarning: `tf.layers.conv2d` is deprecated and will be removed in a future version. Please Use `tf.keras.layers.Conv2D` instead.\n",
      "  out = tf.compat.v1.layers.conv2d(out, 256, 3, 1, \"SAME\",\n",
      "Z:\\FYP\\im2smilesv2\\model\\encoder.py:44: UserWarning: `tf.layers.conv2d` is deprecated and will be removed in a future version. Please Use `tf.keras.layers.Conv2D` instead.\n",
      "  out = tf.compat.v1.layers.conv2d(out, 256, 3, 1, \"SAME\",\n",
      "Z:\\FYP\\im2smilesv2\\model\\encoder.py:48: UserWarning: `tf.layers.max_pooling2d` is deprecated and will be removed in a future version. Please use `tf.keras.layers.MaxPooling2D` instead.\n",
      "  out = tf.compat.v1.layers.max_pooling2d(out, (2, 1), (2, 1), \"SAME\")\n",
      "Z:\\FYP\\im2smilesv2\\model\\encoder.py:50: UserWarning: `tf.layers.conv2d` is deprecated and will be removed in a future version. Please Use `tf.keras.layers.Conv2D` instead.\n",
      "  out = tf.compat.v1.layers.conv2d(out, 512, 3, 1, \"SAME\",\n",
      "Z:\\FYP\\im2smilesv2\\model\\encoder.py:54: UserWarning: `tf.layers.max_pooling2d` is deprecated and will be removed in a future version. Please use `tf.keras.layers.MaxPooling2D` instead.\n",
      "  out = tf.compat.v1.layers.max_pooling2d(out, (1, 2), (1, 2), \"SAME\")\n",
      "Z:\\FYP\\im2smilesv2\\model\\encoder.py:61: UserWarning: `tf.layers.conv2d` is deprecated and will be removed in a future version. Please Use `tf.keras.layers.Conv2D` instead.\n",
      "  out = tf.compat.v1.layers.conv2d(out, 512, 3, 1, \"VALID\",\n"
     ]
    },
    {
     "name": "stdout",
     "output_type": "stream",
     "text": [
      "WARNING:tensorflow:From Z:\\FYP\\im2smilesv2\\model\\decoder.py:58: dynamic_rnn (from tensorflow.python.ops.rnn) is deprecated and will be removed in a future version.\n",
      "Instructions for updating:\n",
      "Please use `keras.layers.RNN(cell)`, which is equivalent to this API\n"
     ]
    },
    {
     "name": "stderr",
     "output_type": "stream",
     "text": [
      "Z:\\FYP\\im2smilesv2\\model\\components\\attention_mechanism.py:40: UserWarning: `tf.layers.dense` is deprecated and will be removed in a future version. Please use `tf.keras.layers.Dense` instead.\n",
      "  self._att_img = tf.compat.v1.layers.dense(\n",
      "C:\\Users\\Yuriy\\AppData\\Roaming\\Python\\Python39\\site-packages\\tensorflow\\python\\keras\\layers\\legacy_rnn\\rnn_cell_impl.py:913: UserWarning: `tf.nn.rnn_cell.LSTMCell` is deprecated and will be removed in a future version. This class is equivalent as `tf.keras.layers.LSTMCell`, and will be replaced by that in Tensorflow 2.0.\n",
      "  warnings.warn(\"`tf.nn.rnn_cell.LSTMCell` is deprecated and will be \"\n",
      "From Z:\\FYP\\im2smilesv2\\model\\decoder.py:58: dynamic_rnn (from tensorflow.python.ops.rnn) is deprecated and will be removed in a future version.\n",
      "Instructions for updating:\n",
      "Please use `keras.layers.RNN(cell)`, which is equivalent to this API\n"
     ]
    },
    {
     "name": "stdout",
     "output_type": "stream",
     "text": [
      "WARNING:tensorflow:From C:\\Users\\Yuriy\\AppData\\Roaming\\Python\\Python39\\site-packages\\tensorflow\\python\\keras\\layers\\legacy_rnn\\rnn_cell_impl.py:991: calling Zeros.__init__ (from tensorflow.python.ops.init_ops) with dtype is deprecated and will be removed in a future version.\n",
      "Instructions for updating:\n",
      "Call initializer instance with the dtype argument instead of passing it to the constructor\n"
     ]
    },
    {
     "name": "stderr",
     "output_type": "stream",
     "text": [
      "C:\\Users\\Yuriy\\AppData\\Roaming\\Python\\Python39\\site-packages\\tensorflow\\python\\keras\\engine\\base_layer_v1.py:1702: UserWarning: `layer.add_variable` is deprecated and will be removed in a future version. Please use `layer.add_weight` method instead.\n",
      "  warnings.warn('`layer.add_variable` is deprecated and '\n",
      "From C:\\Users\\Yuriy\\AppData\\Roaming\\Python\\Python39\\site-packages\\tensorflow\\python\\keras\\layers\\legacy_rnn\\rnn_cell_impl.py:991: calling Zeros.__init__ (from tensorflow.python.ops.init_ops) with dtype is deprecated and will be removed in a future version.\n",
      "Instructions for updating:\n",
      "Call initializer instance with the dtype argument instead of passing it to the constructor\n",
      "Z:\\FYP\\im2smilesv2\\model\\components\\attention_mechanism.py:72: UserWarning: `tf.layers.dense` is deprecated and will be removed in a future version. Please use `tf.keras.layers.Dense` instead.\n",
      "  att_h = tf.compat.v1.layers.dense(inputs=h, units=self._dim_e, use_bias=False)\n"
     ]
    },
    {
     "name": "stdout",
     "output_type": "stream",
     "text": [
      "WARNING:tensorflow:From Z:\\FYP\\im2smilesv2\\model\\components\\dynamic_decode.py:58: calling while_loop_v2 (from tensorflow.python.ops.control_flow_ops) with back_prop=False is deprecated and will be removed in a future version.\n",
      "Instructions for updating:\n",
      "back_prop=False is deprecated. Consider using tf.stop_gradient instead.\n",
      "Instead of:\n",
      "results = tf.while_loop(c, b, vars, back_prop=False)\n",
      "Use:\n",
      "results = tf.nest.map_structure(tf.stop_gradient, tf.while_loop(c, b, vars))\n"
     ]
    },
    {
     "name": "stderr",
     "output_type": "stream",
     "text": [
      "From Z:\\FYP\\im2smilesv2\\model\\components\\dynamic_decode.py:58: calling while_loop_v2 (from tensorflow.python.ops.control_flow_ops) with back_prop=False is deprecated and will be removed in a future version.\n",
      "Instructions for updating:\n",
      "back_prop=False is deprecated. Consider using tf.stop_gradient instead.\n",
      "Instead of:\n",
      "results = tf.while_loop(c, b, vars, back_prop=False)\n",
      "Use:\n",
      "results = tf.nest.map_structure(tf.stop_gradient, tf.while_loop(c, b, vars))\n"
     ]
    },
    {
     "name": "stdout",
     "output_type": "stream",
     "text": [
      "Device mapping:\n",
      "/job:localhost/replica:0/task:0/device:GPU:0 -> device: 0, name: NVIDIA GeForce RTX 3080, pci bus id: 0000:01:00.0, compute capability: 8.6\n",
      "\n"
     ]
    },
    {
     "name": "stderr",
     "output_type": "stream",
     "text": [
      "- done.\n",
      "Reloading the latest trained model...\n"
     ]
    },
    {
     "name": "stdout",
     "output_type": "stream",
     "text": [
      "INFO:tensorflow:Restoring parameters from results/clean-RDKit-500K/model.weights/\n"
     ]
    },
    {
     "name": "stderr",
     "output_type": "stream",
     "text": [
      "Restoring parameters from results/clean-RDKit-500K/model.weights/\n"
     ]
    },
    {
     "name": "stdout",
     "output_type": "stream",
     "text": [
      "Loaded 44917 formulas from Z:/FYP/data/clean-RDKit/500K/test.formulas.txt\n",
      "Loaded 44917 formulas from results/clean-RDKit-500K/formulas_test/ref.txt\n",
      "Loaded 44917 formulas from results/clean-RDKit-500K/formulas_test/hyp_0.txt\n"
     ]
    },
    {
     "name": "stderr",
     "output_type": "stream",
     "text": [
      "- Test Txt: BLEU-4 99.58 - EM 98.00 - Edit 99.48 - perplexity -1.00\n"
     ]
    }
   ],
   "source": [
    "if __name__ == \"__main__\":\n",
    "    main(results = 'results/clean-RDKit-500K/')"
   ]
  },
  {
   "cell_type": "code",
   "execution_count": null,
   "id": "3ec2a968",
   "metadata": {},
   "outputs": [],
   "source": []
  }
 ],
 "metadata": {
  "kernelspec": {
   "display_name": "Python 3 (ipykernel)",
   "language": "python",
   "name": "python3"
  },
  "language_info": {
   "codemirror_mode": {
    "name": "ipython",
    "version": 3
   },
   "file_extension": ".py",
   "mimetype": "text/x-python",
   "name": "python",
   "nbconvert_exporter": "python",
   "pygments_lexer": "ipython3",
   "version": "3.9.15"
  }
 },
 "nbformat": 4,
 "nbformat_minor": 5
}
