{
 "cells": [
  {
   "cell_type": "code",
   "execution_count": 1,
   "id": "afd9effa",
   "metadata": {},
   "outputs": [],
   "source": [
    "import numpy as np\n",
    "import json\n",
    "import pandas as ps\n",
    "np.random.seed(6)"
   ]
  },
  {
   "cell_type": "code",
   "execution_count": 2,
   "id": "4d7aa79d",
   "metadata": {},
   "outputs": [],
   "source": [
    "from model.utils.data_generator import DataGenerator\n",
    "from model.img2seq import Img2SeqModel\n",
    "from model.utils.lr_schedule import LRSchedule\n",
    "from model.utils.general import Config\n",
    "from model.utils.text import Vocab\n",
    "from model.utils.image import greyscale"
   ]
  },
  {
   "cell_type": "code",
   "execution_count": 3,
   "id": "32fd341b",
   "metadata": {},
   "outputs": [],
   "source": [
    "import os\n",
    "os.environ['CUDA_VISIBLE_DEVICES']=\"0\""
   ]
  },
  {
   "cell_type": "code",
   "execution_count": 4,
   "id": "f6fea37b",
   "metadata": {},
   "outputs": [],
   "source": [
    "def main(data, vocab, training, model, output):\n",
    "    # Load configs\n",
    "    dir_output = output\n",
    "    config = Config([data, vocab, training, model])\n",
    "    config.save(dir_output)\n",
    "    vocab = Vocab(config)\n",
    "\n",
    "    # Load datasets\n",
    "    train_set = DataGenerator(path_formulas=config.path_formulas_train,\n",
    "            dir_images=config.dir_images_train, img_prepro=greyscale,\n",
    "            max_iter=config.max_iter, bucket=config.bucket_train,\n",
    "            path_index=config.path_index_train,\n",
    "            max_len=config.max_length_formula,\n",
    "            form_prepro=vocab.form_prepro)\n",
    "    val_set = DataGenerator(path_formulas=config.path_formulas_val,\n",
    "            dir_images=config.dir_images_val, img_prepro=greyscale,\n",
    "            max_iter=config.max_iter, bucket=config.bucket_val,\n",
    "            path_index=config.path_index_val,\n",
    "            max_len=config.max_length_formula,\n",
    "            form_prepro=vocab.form_prepro)\n",
    "\n",
    "    # Define learning rate schedule\n",
    "    n_batches_epoch = ((len(train_set) + config.batch_size - 1) //\n",
    "                        config.batch_size)\n",
    "    lr_schedule = LRSchedule(lr_init=config.lr_init,\n",
    "            start_decay=config.start_decay*n_batches_epoch,\n",
    "            end_decay=config.end_decay*n_batches_epoch,\n",
    "            end_warm=config.end_warm*n_batches_epoch,\n",
    "            lr_warm=config.lr_warm,\n",
    "            lr_min=config.lr_min)\n",
    "\n",
    "    # Build model \n",
    "    model = Img2SeqModel(config, dir_output, vocab)\n",
    "    model.build_train(config)\n",
    "    \n",
    "    # Restart weights\n",
    "    # model.restore_session(dir_output + \"model.weights/\")\n",
    "    \n",
    "    # Train model\n",
    "    model.train(config, train_set, val_set, lr_schedule)"
   ]
  },
  {
   "cell_type": "code",
   "execution_count": 5,
   "id": "be7eda1d",
   "metadata": {},
   "outputs": [
    {
     "name": "stderr",
     "output_type": "stream",
     "text": [
      "Building model...\n"
     ]
    },
    {
     "name": "stdout",
     "output_type": "stream",
     "text": [
      "configs/data_small.json\n",
      "configs/vocab.json\n",
      "configs/training.json\n",
      "configs/model.json\n",
      "configs/data_small.json\n",
      "configs/vocab.json\n",
      "configs/training.json\n",
      "configs/model.json\n",
      "Loaded 5 formulas from data_small/train.formulas.txt\n",
      "Loaded 5 formulas from data_small/val.formulas.txt\n",
      "First call to len(dataset) - may take a while.\n",
      "- done.\n"
     ]
    },
    {
     "name": "stderr",
     "output_type": "stream",
     "text": [
      "C:\\Users\\Yuriy\\anaconda3\\envs\\im2smiles\\lib\\site-packages\\tensorflow\\python\\ops\\gradients_impl.py:97: UserWarning: Converting sparse IndexedSlices to a dense Tensor of unknown shape. This may consume a large amount of memory.\n",
      "  \"Converting sparse IndexedSlices to a dense Tensor of unknown shape. \"\n",
      "- done.\n",
      "Epoch 1/30\n"
     ]
    },
    {
     "name": "stdout",
     "output_type": "stream",
     "text": [
      "[name: \"/device:CPU:0\"\n",
      "device_type: \"CPU\"\n",
      "memory_limit: 268435456\n",
      "locality {\n",
      "}\n",
      "incarnation: 3913572465393910277\n",
      "]\n",
      "1/1 [==============================] - 2s - loss: 2.5396 - perplexity: 12.6740 - lr: 0.0001\n"
     ]
    },
    {
     "name": "stderr",
     "output_type": "stream",
     "text": [
      "- Training:  - 2s - loss: 2.5396 - perplexity: 12.6740 - lr: 0.0001\n"
     ]
    },
    {
     "name": "stdout",
     "output_type": "stream",
     "text": [
      "- Evaluating...Loaded 5 formulas from results/smallformulas_val/ref.txt\n",
      "Loaded 5 formulas from results/smallformulas_val/hyp_0.txt\n",
      "\r"
     ]
    },
    {
     "name": "stderr",
     "output_type": "stream",
     "text": [
      "C:\\Users\\Yuriy\\anaconda3\\envs\\im2smiles\\lib\\site-packages\\nltk\\translate\\bleu_score.py:523: UserWarning: \n",
      "The hypothesis contains 0 counts of 2-gram overlaps.\n",
      "Therefore the BLEU score evaluates to 0, independently of\n",
      "how many N-gram overlaps of lower order it contains.\n",
      "Consider using lower n-gram order or use SmoothingFunction()\n",
      "  warnings.warn(_msg)\n",
      "C:\\Users\\Yuriy\\anaconda3\\envs\\im2smiles\\lib\\site-packages\\nltk\\translate\\bleu_score.py:523: UserWarning: \n",
      "The hypothesis contains 0 counts of 3-gram overlaps.\n",
      "Therefore the BLEU score evaluates to 0, independently of\n",
      "how many N-gram overlaps of lower order it contains.\n",
      "Consider using lower n-gram order or use SmoothingFunction()\n",
      "  warnings.warn(_msg)\n",
      "C:\\Users\\Yuriy\\anaconda3\\envs\\im2smiles\\lib\\site-packages\\nltk\\translate\\bleu_score.py:523: UserWarning: \n",
      "The hypothesis contains 0 counts of 4-gram overlaps.\n",
      "Therefore the BLEU score evaluates to 0, independently of\n",
      "how many N-gram overlaps of lower order it contains.\n",
      "Consider using lower n-gram order or use SmoothingFunction()\n",
      "  warnings.warn(_msg)\n",
      "- Eval: BLEU-4 0.00 - EM 0.00 - Edit 3.64 - perplexity -7.22\n",
      "- New best score (-7.22)!\n"
     ]
    },
    {
     "name": "stdout",
     "output_type": "stream",
     "text": [
      "==SAVING WEIGHTS===\n",
      "- Saving model...\r"
     ]
    },
    {
     "name": "stderr",
     "output_type": "stream",
     "text": [
      "- Saved model in results/smallmodel.weights/\n",
      "- Elapsed time: 7.68, lr: 0.00010\n",
      "Epoch 2/30\n"
     ]
    },
    {
     "name": "stdout",
     "output_type": "stream",
     "text": [
      "\r",
      "1/1 [==============================] - 2s - loss: 1.9148 - perplexity: 6.7858 - lr: 0.0001\n"
     ]
    },
    {
     "name": "stderr",
     "output_type": "stream",
     "text": [
      "- Training:  - 2s - loss: 1.9148 - perplexity: 6.7858 - lr: 0.0001\n"
     ]
    },
    {
     "name": "stdout",
     "output_type": "stream",
     "text": [
      "- Evaluating...Loaded 5 formulas from results/smallformulas_val/ref.txt\n",
      "Loaded 5 formulas from results/smallformulas_val/hyp_0.txt\n",
      "\r"
     ]
    },
    {
     "name": "stderr",
     "output_type": "stream",
     "text": [
      "- Eval: BLEU-4 0.00 - EM 0.00 - Edit 9.09 - perplexity -5.51\n",
      "- New best score (-5.51)!\n"
     ]
    },
    {
     "name": "stdout",
     "output_type": "stream",
     "text": [
      "==SAVING WEIGHTS===\n",
      "- Saving model...\r"
     ]
    },
    {
     "name": "stderr",
     "output_type": "stream",
     "text": [
      "- Saved model in results/smallmodel.weights/\n",
      "- Elapsed time: 6.66, lr: 0.00010\n",
      "Epoch 3/30\n"
     ]
    },
    {
     "name": "stdout",
     "output_type": "stream",
     "text": [
      "\r",
      "1/1 [==============================] - 2s - loss: 1.6297 - perplexity: 5.1021 - lr: 0.0001\n"
     ]
    },
    {
     "name": "stderr",
     "output_type": "stream",
     "text": [
      "- Training:  - 2s - loss: 1.6297 - perplexity: 5.1021 - lr: 0.0001\n"
     ]
    },
    {
     "name": "stdout",
     "output_type": "stream",
     "text": [
      "- Evaluating...Loaded 5 formulas from results/smallformulas_val/ref.txt\n",
      "Loaded 5 formulas from results/smallformulas_val/hyp_0.txt\n",
      "\r"
     ]
    },
    {
     "name": "stderr",
     "output_type": "stream",
     "text": [
      "- Eval: BLEU-4 1.94 - EM 0.00 - Edit 22.73 - perplexity -5.49\n",
      "- New best score (-5.49)!\n"
     ]
    },
    {
     "name": "stdout",
     "output_type": "stream",
     "text": [
      "==SAVING WEIGHTS===\n",
      "- Saving model...\r"
     ]
    },
    {
     "name": "stderr",
     "output_type": "stream",
     "text": [
      "- Saved model in results/smallmodel.weights/\n",
      "- Elapsed time: 6.97, lr: 0.00010\n",
      "Epoch 4/30\n"
     ]
    },
    {
     "name": "stdout",
     "output_type": "stream",
     "text": [
      "\r",
      "1/1 [==============================] - 2s - loss: 1.6179 - perplexity: 5.0423 - lr: 0.0001\n"
     ]
    },
    {
     "name": "stderr",
     "output_type": "stream",
     "text": [
      "- Training:  - 2s - loss: 1.6179 - perplexity: 5.0423 - lr: 0.0001\n"
     ]
    },
    {
     "name": "stdout",
     "output_type": "stream",
     "text": [
      "- Evaluating...Loaded 5 formulas from results/smallformulas_val/ref.txt\n",
      "Loaded 5 formulas from results/smallformulas_val/hyp_0.txt\n",
      "\r"
     ]
    },
    {
     "name": "stderr",
     "output_type": "stream",
     "text": [
      "- Eval: BLEU-4 10.22 - EM 0.00 - Edit 32.34 - perplexity -5.46\n",
      "- New best score (-5.46)!\n"
     ]
    },
    {
     "name": "stdout",
     "output_type": "stream",
     "text": [
      "==SAVING WEIGHTS===\n",
      "- Saving model...\r"
     ]
    },
    {
     "name": "stderr",
     "output_type": "stream",
     "text": [
      "- Saved model in results/smallmodel.weights/\n",
      "- Elapsed time: 7.11, lr: 0.00010\n",
      "Epoch 5/30\n"
     ]
    },
    {
     "name": "stdout",
     "output_type": "stream",
     "text": [
      "\r",
      "1/1 [==============================] - 2s - loss: 1.6239 - perplexity: 5.0727 - lr: 0.0001\n"
     ]
    },
    {
     "name": "stderr",
     "output_type": "stream",
     "text": [
      "- Training:  - 2s - loss: 1.6239 - perplexity: 5.0727 - lr: 0.0001\n"
     ]
    },
    {
     "name": "stdout",
     "output_type": "stream",
     "text": [
      "- Evaluating...Loaded 5 formulas from results/smallformulas_val/ref.txt\n",
      "Loaded 5 formulas from results/smallformulas_val/hyp_0.txt\n",
      "\r"
     ]
    },
    {
     "name": "stderr",
     "output_type": "stream",
     "text": [
      "- Eval: BLEU-4 10.34 - EM 0.00 - Edit 51.82 - perplexity -5.09\n",
      "- New best score (-5.09)!\n"
     ]
    },
    {
     "name": "stdout",
     "output_type": "stream",
     "text": [
      "==SAVING WEIGHTS===\n",
      "- Saving model...\r"
     ]
    },
    {
     "name": "stderr",
     "output_type": "stream",
     "text": [
      "- Saved model in results/smallmodel.weights/\n",
      "- Elapsed time: 6.91, lr: 0.00010\n",
      "Epoch 6/30\n"
     ]
    },
    {
     "name": "stdout",
     "output_type": "stream",
     "text": [
      "\r",
      "1/1 [==============================] - 2s - loss: 1.5765 - perplexity: 4.8379 - lr: 0.0001\n"
     ]
    },
    {
     "name": "stderr",
     "output_type": "stream",
     "text": [
      "- Training:  - 2s - loss: 1.5765 - perplexity: 4.8379 - lr: 0.0001\n"
     ]
    },
    {
     "name": "stdout",
     "output_type": "stream",
     "text": [
      "- Evaluating...Loaded 5 formulas from results/smallformulas_val/ref.txt\n",
      "Loaded 5 formulas from results/smallformulas_val/hyp_0.txt\n",
      "\r"
     ]
    },
    {
     "name": "stderr",
     "output_type": "stream",
     "text": [
      "- Eval: BLEU-4 5.27 - EM 0.00 - Edit 25.00 - perplexity -4.66\n",
      "- New best score (-4.66)!\n"
     ]
    },
    {
     "name": "stdout",
     "output_type": "stream",
     "text": [
      "==SAVING WEIGHTS===\n",
      "- Saving model...\r"
     ]
    },
    {
     "name": "stderr",
     "output_type": "stream",
     "text": [
      "- Saved model in results/smallmodel.weights/\n",
      "- Elapsed time: 8.54, lr: 0.00010\n",
      "Epoch 7/30\n"
     ]
    },
    {
     "name": "stdout",
     "output_type": "stream",
     "text": [
      "\r",
      "1/1 [==============================] - 2s - loss: 1.5146 - perplexity: 4.5475 - lr: 0.0001\n"
     ]
    },
    {
     "name": "stderr",
     "output_type": "stream",
     "text": [
      "- Training:  - 2s - loss: 1.5146 - perplexity: 4.5475 - lr: 0.0001\n"
     ]
    },
    {
     "name": "stdout",
     "output_type": "stream",
     "text": [
      "- Evaluating...Loaded 5 formulas from results/smallformulas_val/ref.txt\n",
      "Loaded 5 formulas from results/smallformulas_val/hyp_0.txt\n",
      "\r"
     ]
    },
    {
     "name": "stderr",
     "output_type": "stream",
     "text": [
      "- Eval: BLEU-4 5.27 - EM 0.00 - Edit 25.00 - perplexity -4.43\n",
      "- New best score (-4.43)!\n"
     ]
    },
    {
     "name": "stdout",
     "output_type": "stream",
     "text": [
      "==SAVING WEIGHTS===\n",
      "- Saving model...\r"
     ]
    },
    {
     "name": "stderr",
     "output_type": "stream",
     "text": [
      "- Saved model in results/smallmodel.weights/\n",
      "- Elapsed time: 7.23, lr: 0.00010\n",
      "Epoch 8/30\n"
     ]
    },
    {
     "name": "stdout",
     "output_type": "stream",
     "text": [
      "\r",
      "1/1 [==============================] - 2s - loss: 1.4842 - perplexity: 4.4115 - lr: 0.0001\n"
     ]
    },
    {
     "name": "stderr",
     "output_type": "stream",
     "text": [
      "- Training:  - 2s - loss: 1.4842 - perplexity: 4.4115 - lr: 0.0001\n"
     ]
    },
    {
     "name": "stdout",
     "output_type": "stream",
     "text": [
      "- Evaluating...Loaded 5 formulas from results/smallformulas_val/ref.txt\n",
      "Loaded 5 formulas from results/smallformulas_val/hyp_0.txt\n",
      "\r"
     ]
    },
    {
     "name": "stderr",
     "output_type": "stream",
     "text": [
      "- Eval: BLEU-4 5.27 - EM 0.00 - Edit 25.00 - perplexity -4.43\n",
      "- New best score (-4.43)!\n"
     ]
    },
    {
     "name": "stdout",
     "output_type": "stream",
     "text": [
      "==SAVING WEIGHTS===\n",
      "- Saving model...\r"
     ]
    },
    {
     "name": "stderr",
     "output_type": "stream",
     "text": [
      "- Saved model in results/smallmodel.weights/\n",
      "- Elapsed time: 8.74, lr: 0.00010\n",
      "Epoch 9/30\n"
     ]
    },
    {
     "name": "stdout",
     "output_type": "stream",
     "text": [
      "\r",
      "1/1 [==============================] - 2s - loss: 1.4914 - perplexity: 4.4433 - lr: 0.0001\n"
     ]
    },
    {
     "name": "stderr",
     "output_type": "stream",
     "text": [
      "- Training:  - 2s - loss: 1.4914 - perplexity: 4.4433 - lr: 0.0001\n"
     ]
    },
    {
     "name": "stdout",
     "output_type": "stream",
     "text": [
      "- Evaluating...Loaded 5 formulas from results/smallformulas_val/ref.txt\n",
      "Loaded 5 formulas from results/smallformulas_val/hyp_0.txt\n",
      "\r"
     ]
    },
    {
     "name": "stderr",
     "output_type": "stream",
     "text": [
      "- Eval: BLEU-4 5.27 - EM 0.00 - Edit 25.00 - perplexity -4.48\n",
      "- Elapsed time: 5.75, lr: 0.00010\n",
      "Epoch 10/30\n"
     ]
    },
    {
     "name": "stdout",
     "output_type": "stream",
     "text": [
      "\r",
      "1/1 [==============================] - 3s - loss: 1.4988 - perplexity: 4.4762 - lr: 0.0001\n"
     ]
    },
    {
     "name": "stderr",
     "output_type": "stream",
     "text": [
      "- Training:  - 3s - loss: 1.4988 - perplexity: 4.4762 - lr: 0.0001\n"
     ]
    },
    {
     "name": "stdout",
     "output_type": "stream",
     "text": [
      "- Evaluating...Loaded 5 formulas from results/smallformulas_val/ref.txt\n",
      "Loaded 5 formulas from results/smallformulas_val/hyp_0.txt\n",
      "\r"
     ]
    },
    {
     "name": "stderr",
     "output_type": "stream",
     "text": [
      "- Eval: BLEU-4 5.27 - EM 0.00 - Edit 25.00 - perplexity -4.48\n",
      "- Elapsed time: 6.23, lr: 0.00010\n",
      "Epoch 11/30\n"
     ]
    },
    {
     "name": "stdout",
     "output_type": "stream",
     "text": [
      "\r",
      "1/1 [==============================] - 3s - loss: 1.4841 - perplexity: 4.4110 - lr: 0.0001\n"
     ]
    },
    {
     "name": "stderr",
     "output_type": "stream",
     "text": [
      "- Training:  - 3s - loss: 1.4841 - perplexity: 4.4110 - lr: 0.0001\n"
     ]
    },
    {
     "name": "stdout",
     "output_type": "stream",
     "text": [
      "- Evaluating...Loaded 5 formulas from results/smallformulas_val/ref.txt\n",
      "Loaded 5 formulas from results/smallformulas_val/hyp_0.txt\n",
      "\r"
     ]
    },
    {
     "name": "stderr",
     "output_type": "stream",
     "text": [
      "- Eval: BLEU-4 5.27 - EM 0.00 - Edit 25.00 - perplexity -4.44\n",
      "- Elapsed time: 6.22, lr: 0.00010\n",
      "Epoch 12/30\n"
     ]
    },
    {
     "name": "stdout",
     "output_type": "stream",
     "text": [
      "\r",
      "1/1 [==============================] - 2s - loss: 1.4564 - perplexity: 4.2904 - lr: 0.0001\n"
     ]
    },
    {
     "name": "stderr",
     "output_type": "stream",
     "text": [
      "- Training:  - 2s - loss: 1.4564 - perplexity: 4.2904 - lr: 0.0001\n"
     ]
    },
    {
     "name": "stdout",
     "output_type": "stream",
     "text": [
      "- Evaluating...Loaded 5 formulas from results/smallformulas_val/ref.txt\n",
      "Loaded 5 formulas from results/smallformulas_val/hyp_0.txt\n",
      "\r"
     ]
    },
    {
     "name": "stderr",
     "output_type": "stream",
     "text": [
      "- Eval: BLEU-4 5.27 - EM 0.00 - Edit 25.00 - perplexity -4.43\n",
      "- New best score (-4.43)!\n"
     ]
    },
    {
     "name": "stdout",
     "output_type": "stream",
     "text": [
      "==SAVING WEIGHTS===\n",
      "- Saving model...\r"
     ]
    },
    {
     "name": "stderr",
     "output_type": "stream",
     "text": [
      "- Saved model in results/smallmodel.weights/\n",
      "- Elapsed time: 8.47, lr: 0.00010\n",
      "Epoch 13/30\n"
     ]
    },
    {
     "name": "stdout",
     "output_type": "stream",
     "text": [
      "\r",
      "1/1 [==============================] - 2s - loss: 1.4326 - perplexity: 4.1897 - lr: 0.0001\n"
     ]
    },
    {
     "name": "stderr",
     "output_type": "stream",
     "text": [
      "- Training:  - 2s - loss: 1.4326 - perplexity: 4.1897 - lr: 0.0001\n"
     ]
    },
    {
     "name": "stdout",
     "output_type": "stream",
     "text": [
      "- Evaluating...Loaded 5 formulas from results/smallformulas_val/ref.txt\n",
      "Loaded 5 formulas from results/smallformulas_val/hyp_0.txt\n",
      "\r"
     ]
    },
    {
     "name": "stderr",
     "output_type": "stream",
     "text": [
      "- Eval: BLEU-4 5.27 - EM 0.00 - Edit 25.00 - perplexity -4.46\n",
      "- Elapsed time: 5.85, lr: 0.00010\n",
      "Epoch 14/30\n"
     ]
    },
    {
     "name": "stdout",
     "output_type": "stream",
     "text": [
      "\r",
      "1/1 [==============================] - 3s - loss: 1.4213 - perplexity: 4.1426 - lr: 0.0001\n"
     ]
    },
    {
     "name": "stderr",
     "output_type": "stream",
     "text": [
      "- Training:  - 3s - loss: 1.4213 - perplexity: 4.1426 - lr: 0.0001\n"
     ]
    },
    {
     "name": "stdout",
     "output_type": "stream",
     "text": [
      "- Evaluating...Loaded 5 formulas from results/smallformulas_val/ref.txt\n",
      "Loaded 5 formulas from results/smallformulas_val/hyp_0.txt\n",
      "\r"
     ]
    },
    {
     "name": "stderr",
     "output_type": "stream",
     "text": [
      "- Eval: BLEU-4 5.27 - EM 0.00 - Edit 25.00 - perplexity -4.52\n",
      "- Elapsed time: 6.47, lr: 0.00010\n",
      "Epoch 15/30\n"
     ]
    },
    {
     "name": "stdout",
     "output_type": "stream",
     "text": [
      "\r",
      "1/1 [==============================] - 2s - loss: 1.4200 - perplexity: 4.1371 - lr: 0.0001\n"
     ]
    },
    {
     "name": "stderr",
     "output_type": "stream",
     "text": [
      "- Training:  - 2s - loss: 1.4200 - perplexity: 4.1371 - lr: 0.0001\n"
     ]
    },
    {
     "name": "stdout",
     "output_type": "stream",
     "text": [
      "- Evaluating...Loaded 5 formulas from results/smallformulas_val/ref.txt\n",
      "Loaded 5 formulas from results/smallformulas_val/hyp_0.txt\n",
      "\r"
     ]
    },
    {
     "name": "stderr",
     "output_type": "stream",
     "text": [
      "- Eval: BLEU-4 5.27 - EM 0.00 - Edit 25.00 - perplexity -4.57\n",
      "- Elapsed time: 6.20, lr: 0.00010\n",
      "Epoch 16/30\n"
     ]
    },
    {
     "name": "stdout",
     "output_type": "stream",
     "text": [
      "\r",
      "1/1 [==============================] - 2s - loss: 1.4211 - perplexity: 4.1417 - lr: 0.0001\n"
     ]
    },
    {
     "name": "stderr",
     "output_type": "stream",
     "text": [
      "- Training:  - 2s - loss: 1.4211 - perplexity: 4.1417 - lr: 0.0001\n"
     ]
    },
    {
     "name": "stdout",
     "output_type": "stream",
     "text": [
      "- Evaluating...Loaded 5 formulas from results/smallformulas_val/ref.txt\n",
      "Loaded 5 formulas from results/smallformulas_val/hyp_0.txt\n",
      "\r"
     ]
    },
    {
     "name": "stderr",
     "output_type": "stream",
     "text": [
      "- Eval: BLEU-4 5.27 - EM 0.00 - Edit 25.00 - perplexity -4.57\n",
      "- Elapsed time: 6.11, lr: 0.00010\n",
      "Epoch 17/30\n"
     ]
    },
    {
     "name": "stdout",
     "output_type": "stream",
     "text": [
      "\r",
      "1/1 [==============================] - 2s - loss: 1.4187 - perplexity: 4.1318 - lr: 0.0001\n"
     ]
    },
    {
     "name": "stderr",
     "output_type": "stream",
     "text": [
      "- Training:  - 2s - loss: 1.4187 - perplexity: 4.1318 - lr: 0.0001\n"
     ]
    },
    {
     "name": "stdout",
     "output_type": "stream",
     "text": [
      "- Evaluating...Loaded 5 formulas from results/smallformulas_val/ref.txt\n",
      "Loaded 5 formulas from results/smallformulas_val/hyp_0.txt\n",
      "\r"
     ]
    },
    {
     "name": "stderr",
     "output_type": "stream",
     "text": [
      "- Eval: BLEU-4 5.27 - EM 0.00 - Edit 25.00 - perplexity -4.52\n",
      "- Elapsed time: 5.98, lr: 0.00010\n",
      "Epoch 18/30\n"
     ]
    },
    {
     "name": "stdout",
     "output_type": "stream",
     "text": [
      "\r",
      "1/1 [==============================] - 2s - loss: 1.4111 - perplexity: 4.1004 - lr: 0.0001\n"
     ]
    },
    {
     "name": "stderr",
     "output_type": "stream",
     "text": [
      "- Training:  - 2s - loss: 1.4111 - perplexity: 4.1004 - lr: 0.0001\n"
     ]
    },
    {
     "name": "stdout",
     "output_type": "stream",
     "text": [
      "- Evaluating...Loaded 5 formulas from results/smallformulas_val/ref.txt\n",
      "Loaded 5 formulas from results/smallformulas_val/hyp_0.txt\n",
      "\r"
     ]
    },
    {
     "name": "stderr",
     "output_type": "stream",
     "text": [
      "- Eval: BLEU-4 10.06 - EM 0.00 - Edit 46.43 - perplexity -4.44\n",
      "- Elapsed time: 6.00, lr: 0.00010\n",
      "Epoch 19/30\n"
     ]
    },
    {
     "name": "stdout",
     "output_type": "stream",
     "text": [
      "\r",
      "1/1 [==============================] - 3s - loss: 1.4000 - perplexity: 4.0552 - lr: 0.0001\n"
     ]
    },
    {
     "name": "stderr",
     "output_type": "stream",
     "text": [
      "- Training:  - 3s - loss: 1.4000 - perplexity: 4.0552 - lr: 0.0001\n"
     ]
    },
    {
     "name": "stdout",
     "output_type": "stream",
     "text": [
      "- Evaluating...Loaded 5 formulas from results/smallformulas_val/ref.txt\n",
      "Loaded 5 formulas from results/smallformulas_val/hyp_0.txt\n",
      "\r"
     ]
    },
    {
     "name": "stderr",
     "output_type": "stream",
     "text": [
      "- Eval: BLEU-4 12.40 - EM 0.00 - Edit 55.56 - perplexity -4.35\n",
      "- New best score (-4.35)!\n"
     ]
    },
    {
     "name": "stdout",
     "output_type": "stream",
     "text": [
      "==SAVING WEIGHTS===\n",
      "- Saving model...\r"
     ]
    },
    {
     "name": "stderr",
     "output_type": "stream",
     "text": [
      "- Saved model in results/smallmodel.weights/\n",
      "- Elapsed time: 7.91, lr: 0.00010\n",
      "Epoch 20/30\n"
     ]
    },
    {
     "name": "stdout",
     "output_type": "stream",
     "text": [
      "\r",
      "1/1 [==============================] - 2s - loss: 1.3886 - perplexity: 4.0093 - lr: 0.0001\n"
     ]
    },
    {
     "name": "stderr",
     "output_type": "stream",
     "text": [
      "- Training:  - 2s - loss: 1.3886 - perplexity: 4.0093 - lr: 0.0001\n"
     ]
    },
    {
     "name": "stdout",
     "output_type": "stream",
     "text": [
      "- Evaluating...Loaded 5 formulas from results/smallformulas_val/ref.txt\n",
      "Loaded 5 formulas from results/smallformulas_val/hyp_0.txt\n",
      "\r"
     ]
    },
    {
     "name": "stderr",
     "output_type": "stream",
     "text": [
      "- Eval: BLEU-4 13.01 - EM 0.00 - Edit 57.02 - perplexity -4.27\n",
      "- New best score (-4.27)!\n"
     ]
    },
    {
     "name": "stdout",
     "output_type": "stream",
     "text": [
      "==SAVING WEIGHTS===\n",
      "- Saving model...\r"
     ]
    },
    {
     "name": "stderr",
     "output_type": "stream",
     "text": [
      "- Saved model in results/smallmodel.weights/\n",
      "- Elapsed time: 7.30, lr: 0.00010\n",
      "Epoch 21/30\n"
     ]
    },
    {
     "name": "stdout",
     "output_type": "stream",
     "text": [
      "\r",
      "1/1 [==============================] - 2s - loss: 1.3792 - perplexity: 3.9717 - lr: 0.0001\n"
     ]
    },
    {
     "name": "stderr",
     "output_type": "stream",
     "text": [
      "- Training:  - 2s - loss: 1.3792 - perplexity: 3.9717 - lr: 0.0001\n"
     ]
    },
    {
     "name": "stdout",
     "output_type": "stream",
     "text": [
      "- Evaluating...Loaded 5 formulas from results/smallformulas_val/ref.txt\n",
      "Loaded 5 formulas from results/smallformulas_val/hyp_0.txt\n",
      "\r"
     ]
    },
    {
     "name": "stderr",
     "output_type": "stream",
     "text": [
      "- Eval: BLEU-4 12.40 - EM 0.00 - Edit 55.56 - perplexity -4.21\n",
      "- New best score (-4.21)!\n"
     ]
    },
    {
     "name": "stdout",
     "output_type": "stream",
     "text": [
      "==SAVING WEIGHTS===\n",
      "- Saving model...\r"
     ]
    },
    {
     "name": "stderr",
     "output_type": "stream",
     "text": [
      "- Saved model in results/smallmodel.weights/\n",
      "- Elapsed time: 7.52, lr: 0.00010\n",
      "Epoch 22/30\n"
     ]
    },
    {
     "name": "stdout",
     "output_type": "stream",
     "text": [
      "\r",
      "1/1 [==============================] - 2s - loss: 1.3723 - perplexity: 3.9445 - lr: 0.0001\n"
     ]
    },
    {
     "name": "stderr",
     "output_type": "stream",
     "text": [
      "- Training:  - 2s - loss: 1.3723 - perplexity: 3.9445 - lr: 0.0001\n"
     ]
    },
    {
     "name": "stdout",
     "output_type": "stream",
     "text": [
      "- Evaluating...Loaded 5 formulas from results/smallformulas_val/ref.txt\n",
      "Loaded 5 formulas from results/smallformulas_val/hyp_0.txt\n",
      "\r"
     ]
    },
    {
     "name": "stderr",
     "output_type": "stream",
     "text": [
      "- Eval: BLEU-4 11.15 - EM 0.00 - Edit 51.18 - perplexity -4.16\n",
      "- New best score (-4.16)!\n"
     ]
    },
    {
     "name": "stdout",
     "output_type": "stream",
     "text": [
      "==SAVING WEIGHTS===\n",
      "- Saving model...\r"
     ]
    },
    {
     "name": "stderr",
     "output_type": "stream",
     "text": [
      "- Saved model in results/smallmodel.weights/\n",
      "- Elapsed time: 7.56, lr: 0.00010\n",
      "Epoch 23/30\n"
     ]
    },
    {
     "name": "stdout",
     "output_type": "stream",
     "text": [
      "\r",
      "1/1 [==============================] - 2s - loss: 1.3670 - perplexity: 3.9236 - lr: 0.0001\n"
     ]
    },
    {
     "name": "stderr",
     "output_type": "stream",
     "text": [
      "- Training:  - 2s - loss: 1.3670 - perplexity: 3.9236 - lr: 0.0001\n"
     ]
    },
    {
     "name": "stdout",
     "output_type": "stream",
     "text": [
      "- Evaluating...Loaded 5 formulas from results/smallformulas_val/ref.txt\n",
      "Loaded 5 formulas from results/smallformulas_val/hyp_0.txt\n",
      "\r"
     ]
    },
    {
     "name": "stderr",
     "output_type": "stream",
     "text": [
      "- Eval: BLEU-4 9.35 - EM 0.00 - Edit 43.33 - perplexity -4.12\n",
      "- New best score (-4.12)!\n"
     ]
    },
    {
     "name": "stdout",
     "output_type": "stream",
     "text": [
      "==SAVING WEIGHTS===\n",
      "- Saving model...\r"
     ]
    },
    {
     "name": "stderr",
     "output_type": "stream",
     "text": [
      "- Saved model in results/smallmodel.weights/\n",
      "- Elapsed time: 8.55, lr: 0.00010\n",
      "Epoch 24/30\n"
     ]
    },
    {
     "name": "stdout",
     "output_type": "stream",
     "text": [
      "\r",
      "1/1 [==============================] - 3s - loss: 1.3621 - perplexity: 3.9044 - lr: 0.0001\n"
     ]
    },
    {
     "name": "stderr",
     "output_type": "stream",
     "text": [
      "- Training:  - 3s - loss: 1.3621 - perplexity: 3.9044 - lr: 0.0001\n"
     ]
    },
    {
     "name": "stdout",
     "output_type": "stream",
     "text": [
      "- Evaluating...Loaded 5 formulas from results/smallformulas_val/ref.txt\n",
      "Loaded 5 formulas from results/smallformulas_val/hyp_0.txt\n",
      "\r"
     ]
    },
    {
     "name": "stderr",
     "output_type": "stream",
     "text": [
      "- Eval: BLEU-4 5.27 - EM 0.00 - Edit 25.00 - perplexity -4.09\n",
      "- New best score (-4.09)!\n"
     ]
    },
    {
     "name": "stdout",
     "output_type": "stream",
     "text": [
      "==SAVING WEIGHTS===\n",
      "- Saving model...\r"
     ]
    },
    {
     "name": "stderr",
     "output_type": "stream",
     "text": [
      "- Saved model in results/smallmodel.weights/\n",
      "- Elapsed time: 8.75, lr: 0.00010\n",
      "Epoch 25/30\n"
     ]
    },
    {
     "name": "stdout",
     "output_type": "stream",
     "text": [
      "\r",
      "1/1 [==============================] - 2s - loss: 1.3572 - perplexity: 3.8854 - lr: 0.0001\n"
     ]
    },
    {
     "name": "stderr",
     "output_type": "stream",
     "text": [
      "- Training:  - 2s - loss: 1.3572 - perplexity: 3.8854 - lr: 0.0001\n"
     ]
    },
    {
     "name": "stdout",
     "output_type": "stream",
     "text": [
      "- Evaluating...Loaded 5 formulas from results/smallformulas_val/ref.txt\n",
      "Loaded 5 formulas from results/smallformulas_val/hyp_0.txt\n",
      "\r"
     ]
    },
    {
     "name": "stderr",
     "output_type": "stream",
     "text": [
      "- Eval: BLEU-4 5.27 - EM 0.00 - Edit 25.00 - perplexity -4.07\n",
      "- New best score (-4.07)!\n"
     ]
    },
    {
     "name": "stdout",
     "output_type": "stream",
     "text": [
      "==SAVING WEIGHTS===\n",
      "- Saving model...\r"
     ]
    },
    {
     "name": "stderr",
     "output_type": "stream",
     "text": [
      "- Saved model in results/smallmodel.weights/\n",
      "- Elapsed time: 7.55, lr: 0.00010\n",
      "Epoch 26/30\n"
     ]
    },
    {
     "name": "stdout",
     "output_type": "stream",
     "text": [
      "\r",
      "1/1 [==============================] - 3s - loss: 1.3524 - perplexity: 3.8667 - lr: 0.0001\n"
     ]
    },
    {
     "name": "stderr",
     "output_type": "stream",
     "text": [
      "- Training:  - 3s - loss: 1.3524 - perplexity: 3.8667 - lr: 0.0001\n"
     ]
    },
    {
     "name": "stdout",
     "output_type": "stream",
     "text": [
      "- Evaluating...Loaded 5 formulas from results/smallformulas_val/ref.txt\n",
      "Loaded 5 formulas from results/smallformulas_val/hyp_0.txt\n",
      "\r"
     ]
    },
    {
     "name": "stderr",
     "output_type": "stream",
     "text": [
      "- Eval: BLEU-4 5.27 - EM 0.00 - Edit 25.00 - perplexity -4.05\n",
      "- New best score (-4.05)!\n"
     ]
    },
    {
     "name": "stdout",
     "output_type": "stream",
     "text": [
      "==SAVING WEIGHTS===\n",
      "- Saving model...\r"
     ]
    },
    {
     "name": "stderr",
     "output_type": "stream",
     "text": [
      "- Saved model in results/smallmodel.weights/\n",
      "- Elapsed time: 7.78, lr: 0.00010\n",
      "Epoch 27/30\n"
     ]
    },
    {
     "name": "stdout",
     "output_type": "stream",
     "text": [
      "\r",
      "1/1 [==============================] - 2s - loss: 1.3471 - perplexity: 3.8464 - lr: 0.0001\n"
     ]
    },
    {
     "name": "stderr",
     "output_type": "stream",
     "text": [
      "- Training:  - 2s - loss: 1.3471 - perplexity: 3.8464 - lr: 0.0001\n"
     ]
    },
    {
     "name": "stdout",
     "output_type": "stream",
     "text": [
      "- Evaluating...Loaded 5 formulas from results/smallformulas_val/ref.txt\n",
      "Loaded 5 formulas from results/smallformulas_val/hyp_0.txt\n",
      "\r"
     ]
    },
    {
     "name": "stderr",
     "output_type": "stream",
     "text": [
      "- Eval: BLEU-4 7.77 - EM 0.00 - Edit 36.31 - perplexity -4.04\n",
      "- New best score (-4.04)!\n"
     ]
    },
    {
     "name": "stdout",
     "output_type": "stream",
     "text": [
      "==SAVING WEIGHTS===\n",
      "- Saving model...\r"
     ]
    },
    {
     "name": "stderr",
     "output_type": "stream",
     "text": [
      "- Saved model in results/smallmodel.weights/\n",
      "- Elapsed time: 7.71, lr: 0.00010\n",
      "Epoch 28/30\n"
     ]
    },
    {
     "name": "stdout",
     "output_type": "stream",
     "text": [
      "\r",
      "1/1 [==============================] - 2s - loss: 1.3413 - perplexity: 3.8241 - lr: 0.0001\n"
     ]
    },
    {
     "name": "stderr",
     "output_type": "stream",
     "text": [
      "- Training:  - 2s - loss: 1.3413 - perplexity: 3.8241 - lr: 0.0001\n"
     ]
    },
    {
     "name": "stdout",
     "output_type": "stream",
     "text": [
      "- Evaluating...Loaded 5 formulas from results/smallformulas_val/ref.txt\n",
      "Loaded 5 formulas from results/smallformulas_val/hyp_0.txt\n",
      "\r"
     ]
    },
    {
     "name": "stderr",
     "output_type": "stream",
     "text": [
      "- Eval: BLEU-4 9.55 - EM 0.00 - Edit 44.22 - perplexity -4.03\n",
      "- New best score (-4.03)!\n"
     ]
    },
    {
     "name": "stdout",
     "output_type": "stream",
     "text": [
      "==SAVING WEIGHTS===\n",
      "- Saving model...\r"
     ]
    },
    {
     "name": "stderr",
     "output_type": "stream",
     "text": [
      "- Saved model in results/smallmodel.weights/\n",
      "- Elapsed time: 7.57, lr: 0.00010\n",
      "Epoch 29/30\n"
     ]
    },
    {
     "name": "stdout",
     "output_type": "stream",
     "text": [
      "\r",
      "1/1 [==============================] - 2s - loss: 1.3351 - perplexity: 3.8005 - lr: 0.0001\n"
     ]
    },
    {
     "name": "stderr",
     "output_type": "stream",
     "text": [
      "- Training:  - 2s - loss: 1.3351 - perplexity: 3.8005 - lr: 0.0001\n"
     ]
    },
    {
     "name": "stdout",
     "output_type": "stream",
     "text": [
      "- Evaluating...Loaded 5 formulas from results/smallformulas_val/ref.txt\n",
      "Loaded 5 formulas from results/smallformulas_val/hyp_0.txt\n",
      "\r"
     ]
    },
    {
     "name": "stderr",
     "output_type": "stream",
     "text": [
      "- Eval: BLEU-4 10.88 - EM 0.00 - Edit 50.00 - perplexity -4.02\n",
      "- New best score (-4.02)!\n"
     ]
    },
    {
     "name": "stdout",
     "output_type": "stream",
     "text": [
      "==SAVING WEIGHTS===\n",
      "- Saving model...\r"
     ]
    },
    {
     "name": "stderr",
     "output_type": "stream",
     "text": [
      "- Saved model in results/smallmodel.weights/\n",
      "- Elapsed time: 7.86, lr: 0.00010\n",
      "Epoch 30/30\n"
     ]
    },
    {
     "name": "stdout",
     "output_type": "stream",
     "text": [
      "\r",
      "1/1 [==============================] - 2s - loss: 1.3288 - perplexity: 3.7765 - lr: 0.0001\n"
     ]
    },
    {
     "name": "stderr",
     "output_type": "stream",
     "text": [
      "- Training:  - 2s - loss: 1.3288 - perplexity: 3.7765 - lr: 0.0001\n"
     ]
    },
    {
     "name": "stdout",
     "output_type": "stream",
     "text": [
      "- Evaluating...Loaded 5 formulas from results/smallformulas_val/ref.txt\n",
      "Loaded 5 formulas from results/smallformulas_val/hyp_0.txt\n",
      "\r"
     ]
    },
    {
     "name": "stderr",
     "output_type": "stream",
     "text": [
      "- Eval: BLEU-4 12.40 - EM 0.00 - Edit 55.56 - perplexity -4.01\n",
      "- New best score (-4.01)!\n"
     ]
    },
    {
     "name": "stdout",
     "output_type": "stream",
     "text": [
      "==SAVING WEIGHTS===\n",
      "- Saving model...\r"
     ]
    },
    {
     "name": "stderr",
     "output_type": "stream",
     "text": [
      "- Saved model in results/smallmodel.weights/\n",
      "- Elapsed time: 7.47, lr: 0.00010\n"
     ]
    }
   ],
   "source": [
    "if __name__ == \"__main__\":\n",
    "    \n",
    "    main(data = 'configs/data_small.json',\n",
    "    vocab = 'configs/vocab.json',\n",
    "    training = 'configs/training.json',\n",
    "    model = 'configs/model.json',\n",
    "    output = 'results/small/' )"
   ]
  },
  {
   "cell_type": "code",
   "execution_count": null,
   "id": "e17dfcf9",
   "metadata": {},
   "outputs": [],
   "source": []
  }
 ],
 "metadata": {
  "kernelspec": {
   "display_name": "Python 3",
   "language": "python",
   "name": "python3"
  },
  "language_info": {
   "codemirror_mode": {
    "name": "ipython",
    "version": 3
   },
   "file_extension": ".py",
   "mimetype": "text/x-python",
   "name": "python",
   "nbconvert_exporter": "python",
   "pygments_lexer": "ipython3",
   "version": "3.6.13"
  }
 },
 "nbformat": 4,
 "nbformat_minor": 5
}
